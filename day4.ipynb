{
 "cells": [
  {
   "cell_type": "markdown",
   "id": "93cd86c3-40c3-4cc7-940c-b9e7ba3093e3",
   "metadata": {},
   "source": [
    "# Pandas"
   ]
  },
  {
   "cell_type": "code",
   "execution_count": 1,
   "id": "e0a8e02b-281a-41c2-a09f-010277c7d522",
   "metadata": {},
   "outputs": [],
   "source": [
    "import pandas as pd\n",
    "import numpy as np"
   ]
  },
  {
   "cell_type": "code",
   "execution_count": 2,
   "id": "ee3045a5-fa9b-4189-bf46-68b5e5664f47",
   "metadata": {},
   "outputs": [
    {
     "data": {
      "text/plain": [
       "0    1.0\n",
       "1    3.0\n",
       "2    5.0\n",
       "3    NaN\n",
       "4    6.0\n",
       "5    8.0\n",
       "dtype: float64"
      ]
     },
     "execution_count": 2,
     "metadata": {},
     "output_type": "execute_result"
    }
   ],
   "source": [
    "my_series = pd.Series([1,3,5,np.nan,6,8])\n",
    "my_series"
   ]
  },
  {
   "cell_type": "code",
   "execution_count": 3,
   "id": "d2149ee1-84cf-4fa1-a4cc-7af9144e057a",
   "metadata": {},
   "outputs": [],
   "source": [
    "my_series2 = pd.Series([1,3,5,np.nan,6,8], \n",
    "                       index = ['a', 'z', 'f', 'd', 'q', 't'])"
   ]
  },
  {
   "cell_type": "code",
   "execution_count": 4,
   "id": "d69cb746-dba8-4b68-aa3f-8e3f316378fe",
   "metadata": {},
   "outputs": [
    {
     "data": {
      "text/plain": [
       "a    1.0\n",
       "z    3.0\n",
       "f    5.0\n",
       "d    NaN\n",
       "q    6.0\n",
       "t    8.0\n",
       "dtype: float64"
      ]
     },
     "execution_count": 4,
     "metadata": {},
     "output_type": "execute_result"
    }
   ],
   "source": [
    "my_series2"
   ]
  },
  {
   "cell_type": "code",
   "execution_count": 5,
   "id": "ac11e4d9-8c6e-40ee-b10b-336d6ea0d70f",
   "metadata": {},
   "outputs": [
    {
     "data": {
      "text/plain": [
       "5.0"
      ]
     },
     "execution_count": 5,
     "metadata": {},
     "output_type": "execute_result"
    }
   ],
   "source": [
    "my_series2[2]"
   ]
  },
  {
   "cell_type": "code",
   "execution_count": 6,
   "id": "cd18dbe0-1ba1-4209-a985-d8fc0e139185",
   "metadata": {},
   "outputs": [
    {
     "data": {
      "text/plain": [
       "array([ 1.,  3.,  5., nan,  6.,  8.])"
      ]
     },
     "execution_count": 6,
     "metadata": {},
     "output_type": "execute_result"
    }
   ],
   "source": [
    "my_series.values"
   ]
  },
  {
   "cell_type": "code",
   "execution_count": 9,
   "id": "259cccc2-6801-4ba0-9ba6-ee8830b233af",
   "metadata": {},
   "outputs": [
    {
     "data": {
      "text/plain": [
       "0    False\n",
       "1    False\n",
       "2     True\n",
       "3     True\n",
       "4     True\n",
       "5     True\n",
       "dtype: bool"
      ]
     },
     "execution_count": 9,
     "metadata": {},
     "output_type": "execute_result"
    }
   ],
   "source": [
    "my_series >= 5"
   ]
  },
  {
   "cell_type": "code",
   "execution_count": 8,
   "id": "30e6675c-570b-4d41-89f0-e58f0b236e9e",
   "metadata": {},
   "outputs": [],
   "source": [
    "my_series[3] = np.inf"
   ]
  },
  {
   "cell_type": "code",
   "execution_count": 10,
   "id": "8ac7ff6d-97ef-4a2e-a633-64c6c8af634d",
   "metadata": {},
   "outputs": [
    {
     "data": {
      "text/plain": [
       "2    5.0\n",
       "3    inf\n",
       "4    6.0\n",
       "5    8.0\n",
       "dtype: float64"
      ]
     },
     "execution_count": 10,
     "metadata": {},
     "output_type": "execute_result"
    }
   ],
   "source": [
    "my_series[my_series >= 5]"
   ]
  },
  {
   "cell_type": "code",
   "execution_count": 11,
   "id": "5e9f15f5-da38-40f6-8527-6ee5a1ce2ec2",
   "metadata": {},
   "outputs": [],
   "source": [
    "my_dates_index = pd.date_range('20210513', periods=6)"
   ]
  },
  {
   "cell_type": "code",
   "execution_count": 12,
   "id": "d2c603fe-24f4-4a5b-9183-efef3302fd02",
   "metadata": {},
   "outputs": [
    {
     "data": {
      "text/plain": [
       "DatetimeIndex(['2021-05-13', '2021-05-14', '2021-05-15', '2021-05-16',\n",
       "               '2021-05-17', '2021-05-18'],\n",
       "              dtype='datetime64[ns]', freq='D')"
      ]
     },
     "execution_count": 12,
     "metadata": {},
     "output_type": "execute_result"
    }
   ],
   "source": [
    "my_dates_index"
   ]
  },
  {
   "cell_type": "code",
   "execution_count": 14,
   "id": "d0866af2-f99f-42bd-8af5-a628807d6d10",
   "metadata": {},
   "outputs": [],
   "source": [
    "my_series.index = my_dates_index"
   ]
  },
  {
   "cell_type": "code",
   "execution_count": 15,
   "id": "bedafb06-23c9-41c3-8799-c9ddbed404d6",
   "metadata": {},
   "outputs": [
    {
     "data": {
      "text/plain": [
       "2021-05-13    1.0\n",
       "2021-05-14    3.0\n",
       "2021-05-15    5.0\n",
       "2021-05-16    inf\n",
       "2021-05-17    6.0\n",
       "2021-05-18    8.0\n",
       "Freq: D, dtype: float64"
      ]
     },
     "execution_count": 15,
     "metadata": {},
     "output_type": "execute_result"
    }
   ],
   "source": [
    "my_series"
   ]
  },
  {
   "cell_type": "code",
   "execution_count": 16,
   "id": "efc07e85-7674-4c4b-a6e6-0a425e4f6567",
   "metadata": {},
   "outputs": [
    {
     "data": {
      "text/plain": [
       "inf"
      ]
     },
     "execution_count": 16,
     "metadata": {},
     "output_type": "execute_result"
    }
   ],
   "source": [
    "my_series.mean()"
   ]
  },
  {
   "cell_type": "code",
   "execution_count": 17,
   "id": "d64f376d-57fe-439d-8a50-307da00fcb78",
   "metadata": {},
   "outputs": [
    {
     "data": {
      "text/plain": [
       "(6,)"
      ]
     },
     "execution_count": 17,
     "metadata": {},
     "output_type": "execute_result"
    }
   ],
   "source": [
    "my_series.shape"
   ]
  },
  {
   "cell_type": "code",
   "execution_count": 19,
   "id": "ac3ce30e-53d3-4e46-8915-0f56784e8b7e",
   "metadata": {},
   "outputs": [
    {
     "ename": "AttributeError",
     "evalue": "'Series' object has no attribute 'reshape'",
     "output_type": "error",
     "traceback": [
      "\u001b[1;31m---------------------------------------------------------------------------\u001b[0m",
      "\u001b[1;31mAttributeError\u001b[0m                            Traceback (most recent call last)",
      "\u001b[1;32m<ipython-input-19-c5e217294464>\u001b[0m in \u001b[0;36m<module>\u001b[1;34m\u001b[0m\n\u001b[1;32m----> 1\u001b[1;33m \u001b[0mmy_series\u001b[0m\u001b[1;33m.\u001b[0m\u001b[0mreshape\u001b[0m\u001b[1;33m(\u001b[0m\u001b[1;33m(\u001b[0m\u001b[1;36m2\u001b[0m\u001b[1;33m,\u001b[0m\u001b[1;36m3\u001b[0m\u001b[1;33m)\u001b[0m\u001b[1;33m)\u001b[0m\u001b[1;33m\u001b[0m\u001b[1;33m\u001b[0m\u001b[0m\n\u001b[0m",
      "\u001b[1;32mC:\\ProgramData\\Anaconda3\\lib\\site-packages\\pandas\\core\\generic.py\u001b[0m in \u001b[0;36m__getattr__\u001b[1;34m(self, name)\u001b[0m\n\u001b[0;32m   5463\u001b[0m             \u001b[1;32mif\u001b[0m \u001b[0mself\u001b[0m\u001b[1;33m.\u001b[0m\u001b[0m_info_axis\u001b[0m\u001b[1;33m.\u001b[0m\u001b[0m_can_hold_identifiers_and_holds_name\u001b[0m\u001b[1;33m(\u001b[0m\u001b[0mname\u001b[0m\u001b[1;33m)\u001b[0m\u001b[1;33m:\u001b[0m\u001b[1;33m\u001b[0m\u001b[1;33m\u001b[0m\u001b[0m\n\u001b[0;32m   5464\u001b[0m                 \u001b[1;32mreturn\u001b[0m \u001b[0mself\u001b[0m\u001b[1;33m[\u001b[0m\u001b[0mname\u001b[0m\u001b[1;33m]\u001b[0m\u001b[1;33m\u001b[0m\u001b[1;33m\u001b[0m\u001b[0m\n\u001b[1;32m-> 5465\u001b[1;33m             \u001b[1;32mreturn\u001b[0m \u001b[0mobject\u001b[0m\u001b[1;33m.\u001b[0m\u001b[0m__getattribute__\u001b[0m\u001b[1;33m(\u001b[0m\u001b[0mself\u001b[0m\u001b[1;33m,\u001b[0m \u001b[0mname\u001b[0m\u001b[1;33m)\u001b[0m\u001b[1;33m\u001b[0m\u001b[1;33m\u001b[0m\u001b[0m\n\u001b[0m\u001b[0;32m   5466\u001b[0m \u001b[1;33m\u001b[0m\u001b[0m\n\u001b[0;32m   5467\u001b[0m     \u001b[1;32mdef\u001b[0m \u001b[0m__setattr__\u001b[0m\u001b[1;33m(\u001b[0m\u001b[0mself\u001b[0m\u001b[1;33m,\u001b[0m \u001b[0mname\u001b[0m\u001b[1;33m:\u001b[0m \u001b[0mstr\u001b[0m\u001b[1;33m,\u001b[0m \u001b[0mvalue\u001b[0m\u001b[1;33m)\u001b[0m \u001b[1;33m->\u001b[0m \u001b[1;32mNone\u001b[0m\u001b[1;33m:\u001b[0m\u001b[1;33m\u001b[0m\u001b[1;33m\u001b[0m\u001b[0m\n",
      "\u001b[1;31mAttributeError\u001b[0m: 'Series' object has no attribute 'reshape'"
     ]
    }
   ],
   "source": [
    "my_series.reshape((2,3))"
   ]
  },
  {
   "cell_type": "markdown",
   "id": "25c19d52-28b7-4135-8f2f-e4851e27d020",
   "metadata": {},
   "source": [
    "## Dataframe"
   ]
  },
  {
   "cell_type": "code",
   "execution_count": 20,
   "id": "0a5c8c82-1ad0-4a48-be78-e437dce7dde8",
   "metadata": {},
   "outputs": [],
   "source": [
    "sample_np_arr = np.array(np.arange(24)).reshape((6,4)) "
   ]
  },
  {
   "cell_type": "code",
   "execution_count": 21,
   "id": "f63c40ea-35cb-44b7-94d3-58e12efd1875",
   "metadata": {},
   "outputs": [
    {
     "data": {
      "text/plain": [
       "array([[ 0,  1,  2,  3],\n",
       "       [ 4,  5,  6,  7],\n",
       "       [ 8,  9, 10, 11],\n",
       "       [12, 13, 14, 15],\n",
       "       [16, 17, 18, 19],\n",
       "       [20, 21, 22, 23]])"
      ]
     },
     "execution_count": 21,
     "metadata": {},
     "output_type": "execute_result"
    }
   ],
   "source": [
    "sample_np_arr"
   ]
  },
  {
   "cell_type": "code",
   "execution_count": 23,
   "id": "b764abf0-6aa8-4cfc-b9c3-a8178a6e66e1",
   "metadata": {},
   "outputs": [],
   "source": [
    "sample_df = pd.DataFrame(sample_np_arr, index=my_dates_index,\n",
    "                        columns=list('ABCD'))"
   ]
  },
  {
   "cell_type": "code",
   "execution_count": 25,
   "id": "4ac94dbc-1e48-4819-bd29-131323d3c327",
   "metadata": {},
   "outputs": [
    {
     "data": {
      "text/html": [
       "<div>\n",
       "<style scoped>\n",
       "    .dataframe tbody tr th:only-of-type {\n",
       "        vertical-align: middle;\n",
       "    }\n",
       "\n",
       "    .dataframe tbody tr th {\n",
       "        vertical-align: top;\n",
       "    }\n",
       "\n",
       "    .dataframe thead th {\n",
       "        text-align: right;\n",
       "    }\n",
       "</style>\n",
       "<table border=\"1\" class=\"dataframe\">\n",
       "  <thead>\n",
       "    <tr style=\"text-align: right;\">\n",
       "      <th></th>\n",
       "      <th>A</th>\n",
       "      <th>B</th>\n",
       "      <th>C</th>\n",
       "      <th>D</th>\n",
       "    </tr>\n",
       "  </thead>\n",
       "  <tbody>\n",
       "    <tr>\n",
       "      <th>2021-05-13</th>\n",
       "      <td>0</td>\n",
       "      <td>1</td>\n",
       "      <td>2</td>\n",
       "      <td>3</td>\n",
       "    </tr>\n",
       "    <tr>\n",
       "      <th>2021-05-14</th>\n",
       "      <td>4</td>\n",
       "      <td>5</td>\n",
       "      <td>6</td>\n",
       "      <td>7</td>\n",
       "    </tr>\n",
       "    <tr>\n",
       "      <th>2021-05-15</th>\n",
       "      <td>8</td>\n",
       "      <td>9</td>\n",
       "      <td>10</td>\n",
       "      <td>11</td>\n",
       "    </tr>\n",
       "    <tr>\n",
       "      <th>2021-05-16</th>\n",
       "      <td>12</td>\n",
       "      <td>13</td>\n",
       "      <td>14</td>\n",
       "      <td>15</td>\n",
       "    </tr>\n",
       "    <tr>\n",
       "      <th>2021-05-17</th>\n",
       "      <td>16</td>\n",
       "      <td>17</td>\n",
       "      <td>18</td>\n",
       "      <td>19</td>\n",
       "    </tr>\n",
       "    <tr>\n",
       "      <th>2021-05-18</th>\n",
       "      <td>20</td>\n",
       "      <td>21</td>\n",
       "      <td>22</td>\n",
       "      <td>23</td>\n",
       "    </tr>\n",
       "  </tbody>\n",
       "</table>\n",
       "</div>"
      ],
      "text/plain": [
       "             A   B   C   D\n",
       "2021-05-13   0   1   2   3\n",
       "2021-05-14   4   5   6   7\n",
       "2021-05-15   8   9  10  11\n",
       "2021-05-16  12  13  14  15\n",
       "2021-05-17  16  17  18  19\n",
       "2021-05-18  20  21  22  23"
      ]
     },
     "execution_count": 25,
     "metadata": {},
     "output_type": "execute_result"
    }
   ],
   "source": [
    "sample_df"
   ]
  },
  {
   "cell_type": "code",
   "execution_count": 26,
   "id": "b75213e4-8d1b-4db5-a0c5-d6afe4d86679",
   "metadata": {},
   "outputs": [
    {
     "data": {
      "text/plain": [
       "array([[ 0,  1,  2,  3],\n",
       "       [ 4,  5,  6,  7],\n",
       "       [ 8,  9, 10, 11],\n",
       "       [12, 13, 14, 15],\n",
       "       [16, 17, 18, 19],\n",
       "       [20, 21, 22, 23]])"
      ]
     },
     "execution_count": 26,
     "metadata": {},
     "output_type": "execute_result"
    }
   ],
   "source": [
    "sample_df.values"
   ]
  },
  {
   "cell_type": "code",
   "execution_count": 27,
   "id": "2d7e4966-1202-4dae-b7c9-d656b1fac0ac",
   "metadata": {},
   "outputs": [
    {
     "data": {
      "text/plain": [
       "2021-05-13     0\n",
       "2021-05-14     4\n",
       "2021-05-15     8\n",
       "2021-05-16    12\n",
       "2021-05-17    16\n",
       "2021-05-18    20\n",
       "Freq: D, Name: A, dtype: int32"
      ]
     },
     "execution_count": 27,
     "metadata": {},
     "output_type": "execute_result"
    }
   ],
   "source": [
    "sample_df.A"
   ]
  },
  {
   "cell_type": "code",
   "execution_count": 29,
   "id": "ed3ceb58-e599-4ad2-bb03-9d55d1cc1e3a",
   "metadata": {},
   "outputs": [
    {
     "data": {
      "text/plain": [
       "2021-05-13     0\n",
       "2021-05-14     4\n",
       "2021-05-15     8\n",
       "2021-05-16    12\n",
       "2021-05-17    16\n",
       "2021-05-18    20\n",
       "Freq: D, Name: A, dtype: int32"
      ]
     },
     "execution_count": 29,
     "metadata": {},
     "output_type": "execute_result"
    }
   ],
   "source": [
    "sample_df['A']"
   ]
  },
  {
   "cell_type": "code",
   "execution_count": 32,
   "id": "db0b675c-9238-45c5-ad73-b15f74c97a82",
   "metadata": {},
   "outputs": [
    {
     "data": {
      "text/html": [
       "<div>\n",
       "<style scoped>\n",
       "    .dataframe tbody tr th:only-of-type {\n",
       "        vertical-align: middle;\n",
       "    }\n",
       "\n",
       "    .dataframe tbody tr th {\n",
       "        vertical-align: top;\n",
       "    }\n",
       "\n",
       "    .dataframe thead th {\n",
       "        text-align: right;\n",
       "    }\n",
       "</style>\n",
       "<table border=\"1\" class=\"dataframe\">\n",
       "  <thead>\n",
       "    <tr style=\"text-align: right;\">\n",
       "      <th></th>\n",
       "      <th>A</th>\n",
       "      <th>B</th>\n",
       "      <th>C</th>\n",
       "      <th>D</th>\n",
       "    </tr>\n",
       "  </thead>\n",
       "  <tbody>\n",
       "    <tr>\n",
       "      <th>2021-05-13</th>\n",
       "      <td>0</td>\n",
       "      <td>1</td>\n",
       "      <td>2</td>\n",
       "      <td>3</td>\n",
       "    </tr>\n",
       "  </tbody>\n",
       "</table>\n",
       "</div>"
      ],
      "text/plain": [
       "            A  B  C  D\n",
       "2021-05-13  0  1  2  3"
      ]
     },
     "execution_count": 32,
     "metadata": {},
     "output_type": "execute_result"
    }
   ],
   "source": [
    "sample_df[0:].head(1)"
   ]
  },
  {
   "cell_type": "code",
   "execution_count": 33,
   "id": "508af522-fa1a-4c24-8fe1-6fce556a02f9",
   "metadata": {},
   "outputs": [
    {
     "data": {
      "text/html": [
       "<div>\n",
       "<style scoped>\n",
       "    .dataframe tbody tr th:only-of-type {\n",
       "        vertical-align: middle;\n",
       "    }\n",
       "\n",
       "    .dataframe tbody tr th {\n",
       "        vertical-align: top;\n",
       "    }\n",
       "\n",
       "    .dataframe thead th {\n",
       "        text-align: right;\n",
       "    }\n",
       "</style>\n",
       "<table border=\"1\" class=\"dataframe\">\n",
       "  <thead>\n",
       "    <tr style=\"text-align: right;\">\n",
       "      <th></th>\n",
       "      <th>A</th>\n",
       "      <th>B</th>\n",
       "      <th>C</th>\n",
       "      <th>D</th>\n",
       "    </tr>\n",
       "  </thead>\n",
       "  <tbody>\n",
       "    <tr>\n",
       "      <th>2021-05-13</th>\n",
       "      <td>0</td>\n",
       "      <td>1</td>\n",
       "      <td>2</td>\n",
       "      <td>3</td>\n",
       "    </tr>\n",
       "    <tr>\n",
       "      <th>2021-05-14</th>\n",
       "      <td>4</td>\n",
       "      <td>5</td>\n",
       "      <td>6</td>\n",
       "      <td>7</td>\n",
       "    </tr>\n",
       "    <tr>\n",
       "      <th>2021-05-15</th>\n",
       "      <td>8</td>\n",
       "      <td>9</td>\n",
       "      <td>10</td>\n",
       "      <td>11</td>\n",
       "    </tr>\n",
       "    <tr>\n",
       "      <th>2021-05-16</th>\n",
       "      <td>12</td>\n",
       "      <td>13</td>\n",
       "      <td>14</td>\n",
       "      <td>15</td>\n",
       "    </tr>\n",
       "    <tr>\n",
       "      <th>2021-05-17</th>\n",
       "      <td>16</td>\n",
       "      <td>17</td>\n",
       "      <td>18</td>\n",
       "      <td>19</td>\n",
       "    </tr>\n",
       "  </tbody>\n",
       "</table>\n",
       "</div>"
      ],
      "text/plain": [
       "             A   B   C   D\n",
       "2021-05-13   0   1   2   3\n",
       "2021-05-14   4   5   6   7\n",
       "2021-05-15   8   9  10  11\n",
       "2021-05-16  12  13  14  15\n",
       "2021-05-17  16  17  18  19"
      ]
     },
     "execution_count": 33,
     "metadata": {},
     "output_type": "execute_result"
    }
   ],
   "source": [
    "sample_df.head()"
   ]
  },
  {
   "cell_type": "code",
   "execution_count": 34,
   "id": "7315f0e7-f1b0-45b4-8e55-55e307cecb29",
   "metadata": {},
   "outputs": [
    {
     "data": {
      "text/html": [
       "<div>\n",
       "<style scoped>\n",
       "    .dataframe tbody tr th:only-of-type {\n",
       "        vertical-align: middle;\n",
       "    }\n",
       "\n",
       "    .dataframe tbody tr th {\n",
       "        vertical-align: top;\n",
       "    }\n",
       "\n",
       "    .dataframe thead th {\n",
       "        text-align: right;\n",
       "    }\n",
       "</style>\n",
       "<table border=\"1\" class=\"dataframe\">\n",
       "  <thead>\n",
       "    <tr style=\"text-align: right;\">\n",
       "      <th></th>\n",
       "      <th>A</th>\n",
       "      <th>B</th>\n",
       "      <th>C</th>\n",
       "      <th>D</th>\n",
       "    </tr>\n",
       "  </thead>\n",
       "  <tbody>\n",
       "    <tr>\n",
       "      <th>2021-05-14</th>\n",
       "      <td>4</td>\n",
       "      <td>5</td>\n",
       "      <td>6</td>\n",
       "      <td>7</td>\n",
       "    </tr>\n",
       "    <tr>\n",
       "      <th>2021-05-15</th>\n",
       "      <td>8</td>\n",
       "      <td>9</td>\n",
       "      <td>10</td>\n",
       "      <td>11</td>\n",
       "    </tr>\n",
       "    <tr>\n",
       "      <th>2021-05-16</th>\n",
       "      <td>12</td>\n",
       "      <td>13</td>\n",
       "      <td>14</td>\n",
       "      <td>15</td>\n",
       "    </tr>\n",
       "    <tr>\n",
       "      <th>2021-05-17</th>\n",
       "      <td>16</td>\n",
       "      <td>17</td>\n",
       "      <td>18</td>\n",
       "      <td>19</td>\n",
       "    </tr>\n",
       "    <tr>\n",
       "      <th>2021-05-18</th>\n",
       "      <td>20</td>\n",
       "      <td>21</td>\n",
       "      <td>22</td>\n",
       "      <td>23</td>\n",
       "    </tr>\n",
       "  </tbody>\n",
       "</table>\n",
       "</div>"
      ],
      "text/plain": [
       "             A   B   C   D\n",
       "2021-05-14   4   5   6   7\n",
       "2021-05-15   8   9  10  11\n",
       "2021-05-16  12  13  14  15\n",
       "2021-05-17  16  17  18  19\n",
       "2021-05-18  20  21  22  23"
      ]
     },
     "execution_count": 34,
     "metadata": {},
     "output_type": "execute_result"
    }
   ],
   "source": [
    "sample_df.tail()"
   ]
  },
  {
   "cell_type": "code",
   "execution_count": 35,
   "id": "ffc8db43-e5d3-4319-9b99-b8220614fd43",
   "metadata": {},
   "outputs": [
    {
     "data": {
      "text/plain": [
       "Index(['A', 'B', 'C', 'D'], dtype='object')"
      ]
     },
     "execution_count": 35,
     "metadata": {},
     "output_type": "execute_result"
    }
   ],
   "source": [
    "sample_df.columns"
   ]
  },
  {
   "cell_type": "code",
   "execution_count": 36,
   "id": "da92fdca-5c50-4d04-aa65-89f373e9b309",
   "metadata": {},
   "outputs": [
    {
     "data": {
      "text/plain": [
       "pandas.core.series.Series"
      ]
     },
     "execution_count": 36,
     "metadata": {},
     "output_type": "execute_result"
    }
   ],
   "source": [
    "type(sample_df.A)"
   ]
  },
  {
   "cell_type": "code",
   "execution_count": 37,
   "id": "be286891-3c30-4f60-b835-9ceee8f82e20",
   "metadata": {},
   "outputs": [
    {
     "data": {
      "text/html": [
       "<div>\n",
       "<style scoped>\n",
       "    .dataframe tbody tr th:only-of-type {\n",
       "        vertical-align: middle;\n",
       "    }\n",
       "\n",
       "    .dataframe tbody tr th {\n",
       "        vertical-align: top;\n",
       "    }\n",
       "\n",
       "    .dataframe thead th {\n",
       "        text-align: right;\n",
       "    }\n",
       "</style>\n",
       "<table border=\"1\" class=\"dataframe\">\n",
       "  <thead>\n",
       "    <tr style=\"text-align: right;\">\n",
       "      <th></th>\n",
       "      <th>A</th>\n",
       "      <th>B</th>\n",
       "      <th>C</th>\n",
       "      <th>D</th>\n",
       "    </tr>\n",
       "  </thead>\n",
       "  <tbody>\n",
       "    <tr>\n",
       "      <th>count</th>\n",
       "      <td>6.000000</td>\n",
       "      <td>6.000000</td>\n",
       "      <td>6.000000</td>\n",
       "      <td>6.000000</td>\n",
       "    </tr>\n",
       "    <tr>\n",
       "      <th>mean</th>\n",
       "      <td>10.000000</td>\n",
       "      <td>11.000000</td>\n",
       "      <td>12.000000</td>\n",
       "      <td>13.000000</td>\n",
       "    </tr>\n",
       "    <tr>\n",
       "      <th>std</th>\n",
       "      <td>7.483315</td>\n",
       "      <td>7.483315</td>\n",
       "      <td>7.483315</td>\n",
       "      <td>7.483315</td>\n",
       "    </tr>\n",
       "    <tr>\n",
       "      <th>min</th>\n",
       "      <td>0.000000</td>\n",
       "      <td>1.000000</td>\n",
       "      <td>2.000000</td>\n",
       "      <td>3.000000</td>\n",
       "    </tr>\n",
       "    <tr>\n",
       "      <th>25%</th>\n",
       "      <td>5.000000</td>\n",
       "      <td>6.000000</td>\n",
       "      <td>7.000000</td>\n",
       "      <td>8.000000</td>\n",
       "    </tr>\n",
       "    <tr>\n",
       "      <th>50%</th>\n",
       "      <td>10.000000</td>\n",
       "      <td>11.000000</td>\n",
       "      <td>12.000000</td>\n",
       "      <td>13.000000</td>\n",
       "    </tr>\n",
       "    <tr>\n",
       "      <th>75%</th>\n",
       "      <td>15.000000</td>\n",
       "      <td>16.000000</td>\n",
       "      <td>17.000000</td>\n",
       "      <td>18.000000</td>\n",
       "    </tr>\n",
       "    <tr>\n",
       "      <th>max</th>\n",
       "      <td>20.000000</td>\n",
       "      <td>21.000000</td>\n",
       "      <td>22.000000</td>\n",
       "      <td>23.000000</td>\n",
       "    </tr>\n",
       "  </tbody>\n",
       "</table>\n",
       "</div>"
      ],
      "text/plain": [
       "               A          B          C          D\n",
       "count   6.000000   6.000000   6.000000   6.000000\n",
       "mean   10.000000  11.000000  12.000000  13.000000\n",
       "std     7.483315   7.483315   7.483315   7.483315\n",
       "min     0.000000   1.000000   2.000000   3.000000\n",
       "25%     5.000000   6.000000   7.000000   8.000000\n",
       "50%    10.000000  11.000000  12.000000  13.000000\n",
       "75%    15.000000  16.000000  17.000000  18.000000\n",
       "max    20.000000  21.000000  22.000000  23.000000"
      ]
     },
     "execution_count": 37,
     "metadata": {},
     "output_type": "execute_result"
    }
   ],
   "source": [
    "sample_df.describe()"
   ]
  },
  {
   "cell_type": "code",
   "execution_count": 38,
   "id": "52425939-c293-4fc7-b351-ff6e89c2c5d1",
   "metadata": {},
   "outputs": [
    {
     "data": {
      "text/html": [
       "<div>\n",
       "<style scoped>\n",
       "    .dataframe tbody tr th:only-of-type {\n",
       "        vertical-align: middle;\n",
       "    }\n",
       "\n",
       "    .dataframe tbody tr th {\n",
       "        vertical-align: top;\n",
       "    }\n",
       "\n",
       "    .dataframe thead th {\n",
       "        text-align: right;\n",
       "    }\n",
       "</style>\n",
       "<table border=\"1\" class=\"dataframe\">\n",
       "  <thead>\n",
       "    <tr style=\"text-align: right;\">\n",
       "      <th></th>\n",
       "      <th>A</th>\n",
       "      <th>B</th>\n",
       "      <th>C</th>\n",
       "      <th>D</th>\n",
       "    </tr>\n",
       "  </thead>\n",
       "  <tbody>\n",
       "    <tr>\n",
       "      <th>2021-05-18</th>\n",
       "      <td>20</td>\n",
       "      <td>21</td>\n",
       "      <td>22</td>\n",
       "      <td>23</td>\n",
       "    </tr>\n",
       "    <tr>\n",
       "      <th>2021-05-17</th>\n",
       "      <td>16</td>\n",
       "      <td>17</td>\n",
       "      <td>18</td>\n",
       "      <td>19</td>\n",
       "    </tr>\n",
       "    <tr>\n",
       "      <th>2021-05-16</th>\n",
       "      <td>12</td>\n",
       "      <td>13</td>\n",
       "      <td>14</td>\n",
       "      <td>15</td>\n",
       "    </tr>\n",
       "    <tr>\n",
       "      <th>2021-05-15</th>\n",
       "      <td>8</td>\n",
       "      <td>9</td>\n",
       "      <td>10</td>\n",
       "      <td>11</td>\n",
       "    </tr>\n",
       "    <tr>\n",
       "      <th>2021-05-14</th>\n",
       "      <td>4</td>\n",
       "      <td>5</td>\n",
       "      <td>6</td>\n",
       "      <td>7</td>\n",
       "    </tr>\n",
       "    <tr>\n",
       "      <th>2021-05-13</th>\n",
       "      <td>0</td>\n",
       "      <td>1</td>\n",
       "      <td>2</td>\n",
       "      <td>3</td>\n",
       "    </tr>\n",
       "  </tbody>\n",
       "</table>\n",
       "</div>"
      ],
      "text/plain": [
       "             A   B   C   D\n",
       "2021-05-18  20  21  22  23\n",
       "2021-05-17  16  17  18  19\n",
       "2021-05-16  12  13  14  15\n",
       "2021-05-15   8   9  10  11\n",
       "2021-05-14   4   5   6   7\n",
       "2021-05-13   0   1   2   3"
      ]
     },
     "execution_count": 38,
     "metadata": {},
     "output_type": "execute_result"
    }
   ],
   "source": [
    "sample_df.sort_values(by='D', ascending=False)"
   ]
  },
  {
   "cell_type": "code",
   "execution_count": 41,
   "id": "abbaae55-b630-4b28-b42c-ae233ba25b34",
   "metadata": {},
   "outputs": [
    {
     "data": {
      "text/plain": [
       "A    10.0\n",
       "B    11.0\n",
       "C    12.0\n",
       "D    13.0\n",
       "dtype: float64"
      ]
     },
     "execution_count": 41,
     "metadata": {},
     "output_type": "execute_result"
    }
   ],
   "source": [
    "sample_df.mean()"
   ]
  },
  {
   "cell_type": "code",
   "execution_count": 42,
   "id": "fba8eeb5-9618-40d9-8db5-9cce0cde2156",
   "metadata": {},
   "outputs": [
    {
     "data": {
      "text/html": [
       "<div>\n",
       "<style scoped>\n",
       "    .dataframe tbody tr th:only-of-type {\n",
       "        vertical-align: middle;\n",
       "    }\n",
       "\n",
       "    .dataframe tbody tr th {\n",
       "        vertical-align: top;\n",
       "    }\n",
       "\n",
       "    .dataframe thead th {\n",
       "        text-align: right;\n",
       "    }\n",
       "</style>\n",
       "<table border=\"1\" class=\"dataframe\">\n",
       "  <thead>\n",
       "    <tr style=\"text-align: right;\">\n",
       "      <th></th>\n",
       "      <th>2021-05-13</th>\n",
       "      <th>2021-05-14</th>\n",
       "      <th>2021-05-15</th>\n",
       "      <th>2021-05-16</th>\n",
       "      <th>2021-05-17</th>\n",
       "      <th>2021-05-18</th>\n",
       "    </tr>\n",
       "  </thead>\n",
       "  <tbody>\n",
       "    <tr>\n",
       "      <th>A</th>\n",
       "      <td>0</td>\n",
       "      <td>4</td>\n",
       "      <td>8</td>\n",
       "      <td>12</td>\n",
       "      <td>16</td>\n",
       "      <td>20</td>\n",
       "    </tr>\n",
       "    <tr>\n",
       "      <th>B</th>\n",
       "      <td>1</td>\n",
       "      <td>5</td>\n",
       "      <td>9</td>\n",
       "      <td>13</td>\n",
       "      <td>17</td>\n",
       "      <td>21</td>\n",
       "    </tr>\n",
       "    <tr>\n",
       "      <th>C</th>\n",
       "      <td>2</td>\n",
       "      <td>6</td>\n",
       "      <td>10</td>\n",
       "      <td>14</td>\n",
       "      <td>18</td>\n",
       "      <td>22</td>\n",
       "    </tr>\n",
       "    <tr>\n",
       "      <th>D</th>\n",
       "      <td>3</td>\n",
       "      <td>7</td>\n",
       "      <td>11</td>\n",
       "      <td>15</td>\n",
       "      <td>19</td>\n",
       "      <td>23</td>\n",
       "    </tr>\n",
       "  </tbody>\n",
       "</table>\n",
       "</div>"
      ],
      "text/plain": [
       "   2021-05-13  2021-05-14  2021-05-15  2021-05-16  2021-05-17  2021-05-18\n",
       "A           0           4           8          12          16          20\n",
       "B           1           5           9          13          17          21\n",
       "C           2           6          10          14          18          22\n",
       "D           3           7          11          15          19          23"
      ]
     },
     "execution_count": 42,
     "metadata": {},
     "output_type": "execute_result"
    }
   ],
   "source": [
    "sample_df.T"
   ]
  },
  {
   "cell_type": "code",
   "execution_count": 46,
   "id": "167a544e-51a0-4e2c-b398-d51aab90113b",
   "metadata": {},
   "outputs": [
    {
     "data": {
      "text/html": [
       "<div>\n",
       "<style scoped>\n",
       "    .dataframe tbody tr th:only-of-type {\n",
       "        vertical-align: middle;\n",
       "    }\n",
       "\n",
       "    .dataframe tbody tr th {\n",
       "        vertical-align: top;\n",
       "    }\n",
       "\n",
       "    .dataframe thead th {\n",
       "        text-align: right;\n",
       "    }\n",
       "</style>\n",
       "<table border=\"1\" class=\"dataframe\">\n",
       "  <thead>\n",
       "    <tr style=\"text-align: right;\">\n",
       "      <th></th>\n",
       "      <th>D</th>\n",
       "      <th>B</th>\n",
       "    </tr>\n",
       "  </thead>\n",
       "  <tbody>\n",
       "    <tr>\n",
       "      <th>2021-05-13</th>\n",
       "      <td>3</td>\n",
       "      <td>1</td>\n",
       "    </tr>\n",
       "    <tr>\n",
       "      <th>2021-05-14</th>\n",
       "      <td>7</td>\n",
       "      <td>5</td>\n",
       "    </tr>\n",
       "  </tbody>\n",
       "</table>\n",
       "</div>"
      ],
      "text/plain": [
       "            D  B\n",
       "2021-05-13  3  1\n",
       "2021-05-14  7  5"
      ]
     },
     "execution_count": 46,
     "metadata": {},
     "output_type": "execute_result"
    }
   ],
   "source": [
    "sample_df.loc[:'2021-05-14', ['D', 'B']]"
   ]
  },
  {
   "cell_type": "code",
   "execution_count": 49,
   "id": "87e05e18-e92e-41cf-a29d-f99f49ed8952",
   "metadata": {},
   "outputs": [
    {
     "data": {
      "text/html": [
       "<div>\n",
       "<style scoped>\n",
       "    .dataframe tbody tr th:only-of-type {\n",
       "        vertical-align: middle;\n",
       "    }\n",
       "\n",
       "    .dataframe tbody tr th {\n",
       "        vertical-align: top;\n",
       "    }\n",
       "\n",
       "    .dataframe thead th {\n",
       "        text-align: right;\n",
       "    }\n",
       "</style>\n",
       "<table border=\"1\" class=\"dataframe\">\n",
       "  <thead>\n",
       "    <tr style=\"text-align: right;\">\n",
       "      <th></th>\n",
       "      <th>A</th>\n",
       "      <th>B</th>\n",
       "      <th>C</th>\n",
       "      <th>D</th>\n",
       "    </tr>\n",
       "  </thead>\n",
       "  <tbody>\n",
       "    <tr>\n",
       "      <th>2021-05-13</th>\n",
       "      <td>0</td>\n",
       "      <td>1</td>\n",
       "      <td>2</td>\n",
       "      <td>3</td>\n",
       "    </tr>\n",
       "  </tbody>\n",
       "</table>\n",
       "</div>"
      ],
      "text/plain": [
       "            A  B  C  D\n",
       "2021-05-13  0  1  2  3"
      ]
     },
     "execution_count": 49,
     "metadata": {},
     "output_type": "execute_result"
    }
   ],
   "source": [
    "sample_df[:1]"
   ]
  },
  {
   "cell_type": "markdown",
   "id": "8e86311a-0a10-4c10-ada6-dc7731d112cb",
   "metadata": {},
   "source": [
    "## Zip code"
   ]
  },
  {
   "cell_type": "code",
   "execution_count": 63,
   "id": "05c79c44-dc20-4c18-99ed-2a05526989e5",
   "metadata": {},
   "outputs": [],
   "source": [
    "url_base = \"http://10.40.6.14/~ehar/sure/data/\"\n",
    "file = 'zips.csv'\n",
    "url = url_base + file\n",
    "\n",
    "c = pd.read_csv(url, header=None,\n",
    "               names = ['i', 'zip', 'state', 'city', \n",
    "                        'longitude', 'latitude',\n",
    "                        'junk1', 'junk2'],\n",
    "               usecols = ['zip', 'state', 'city', 'longitude',\n",
    "                         'latitude'],\n",
    "               dtype = {'zip':str})"
   ]
  },
  {
   "cell_type": "code",
   "execution_count": 65,
   "id": "64915c4b-57ec-4822-96a9-2256c0b34d14",
   "metadata": {},
   "outputs": [],
   "source": [
    "c = c.set_index('zip')"
   ]
  },
  {
   "cell_type": "code",
   "execution_count": 66,
   "id": "a2cb2283-50ea-477b-a902-ba8008684ba4",
   "metadata": {},
   "outputs": [
    {
     "data": {
      "text/html": [
       "<div>\n",
       "<style scoped>\n",
       "    .dataframe tbody tr th:only-of-type {\n",
       "        vertical-align: middle;\n",
       "    }\n",
       "\n",
       "    .dataframe tbody tr th {\n",
       "        vertical-align: top;\n",
       "    }\n",
       "\n",
       "    .dataframe thead th {\n",
       "        text-align: right;\n",
       "    }\n",
       "</style>\n",
       "<table border=\"1\" class=\"dataframe\">\n",
       "  <thead>\n",
       "    <tr style=\"text-align: right;\">\n",
       "      <th></th>\n",
       "      <th>state</th>\n",
       "      <th>city</th>\n",
       "      <th>longitude</th>\n",
       "      <th>latitude</th>\n",
       "    </tr>\n",
       "    <tr>\n",
       "      <th>zip</th>\n",
       "      <th></th>\n",
       "      <th></th>\n",
       "      <th></th>\n",
       "      <th></th>\n",
       "    </tr>\n",
       "  </thead>\n",
       "  <tbody>\n",
       "    <tr>\n",
       "      <th>35004</th>\n",
       "      <td>AL</td>\n",
       "      <td>ACMAR</td>\n",
       "      <td>86.515570</td>\n",
       "      <td>33.584132</td>\n",
       "    </tr>\n",
       "    <tr>\n",
       "      <th>35005</th>\n",
       "      <td>AL</td>\n",
       "      <td>ADAMSVILLE</td>\n",
       "      <td>86.959727</td>\n",
       "      <td>33.588437</td>\n",
       "    </tr>\n",
       "    <tr>\n",
       "      <th>35006</th>\n",
       "      <td>AL</td>\n",
       "      <td>ADGER</td>\n",
       "      <td>87.167455</td>\n",
       "      <td>33.434277</td>\n",
       "    </tr>\n",
       "    <tr>\n",
       "      <th>35007</th>\n",
       "      <td>AL</td>\n",
       "      <td>KEYSTONE</td>\n",
       "      <td>86.812861</td>\n",
       "      <td>33.236868</td>\n",
       "    </tr>\n",
       "    <tr>\n",
       "      <th>35010</th>\n",
       "      <td>AL</td>\n",
       "      <td>NEW SITE</td>\n",
       "      <td>85.951086</td>\n",
       "      <td>32.941445</td>\n",
       "    </tr>\n",
       "  </tbody>\n",
       "</table>\n",
       "</div>"
      ],
      "text/plain": [
       "      state        city  longitude   latitude\n",
       "zip                                          \n",
       "35004    AL       ACMAR  86.515570  33.584132\n",
       "35005    AL  ADAMSVILLE  86.959727  33.588437\n",
       "35006    AL       ADGER  87.167455  33.434277\n",
       "35007    AL    KEYSTONE  86.812861  33.236868\n",
       "35010    AL    NEW SITE  85.951086  32.941445"
      ]
     },
     "execution_count": 66,
     "metadata": {},
     "output_type": "execute_result"
    }
   ],
   "source": [
    "c.head()"
   ]
  },
  {
   "cell_type": "code",
   "execution_count": 62,
   "id": "c391c68b-908b-4aa5-b603-044d3ee547bb",
   "metadata": {},
   "outputs": [
    {
     "data": {
      "text/plain": [
       "dtype('O')"
      ]
     },
     "execution_count": 62,
     "metadata": {},
     "output_type": "execute_result"
    }
   ],
   "source": [
    "c.zip.values.dtype"
   ]
  },
  {
   "cell_type": "code",
   "execution_count": 68,
   "id": "c7a62abc-9f20-4d71-87c6-a604927df703",
   "metadata": {},
   "outputs": [
    {
     "data": {
      "text/html": [
       "<div>\n",
       "<style scoped>\n",
       "    .dataframe tbody tr th:only-of-type {\n",
       "        vertical-align: middle;\n",
       "    }\n",
       "\n",
       "    .dataframe tbody tr th {\n",
       "        vertical-align: top;\n",
       "    }\n",
       "\n",
       "    .dataframe thead th {\n",
       "        text-align: right;\n",
       "    }\n",
       "</style>\n",
       "<table border=\"1\" class=\"dataframe\">\n",
       "  <thead>\n",
       "    <tr style=\"text-align: right;\">\n",
       "      <th></th>\n",
       "      <th>state</th>\n",
       "      <th>city</th>\n",
       "      <th>longitude</th>\n",
       "      <th>latitude</th>\n",
       "    </tr>\n",
       "    <tr>\n",
       "      <th>zip</th>\n",
       "      <th></th>\n",
       "      <th></th>\n",
       "      <th></th>\n",
       "      <th></th>\n",
       "    </tr>\n",
       "  </thead>\n",
       "  <tbody>\n",
       "    <tr>\n",
       "      <th>32350</th>\n",
       "      <td>FL</td>\n",
       "      <td>PINETTA</td>\n",
       "      <td>83.340463</td>\n",
       "      <td>30.599703</td>\n",
       "    </tr>\n",
       "    <tr>\n",
       "      <th>32350</th>\n",
       "      <td>GA</td>\n",
       "      <td>PINETTA</td>\n",
       "      <td>83.310491</td>\n",
       "      <td>30.634794</td>\n",
       "    </tr>\n",
       "  </tbody>\n",
       "</table>\n",
       "</div>"
      ],
      "text/plain": [
       "      state     city  longitude   latitude\n",
       "zip                                       \n",
       "32350    FL  PINETTA  83.340463  30.599703\n",
       "32350    GA  PINETTA  83.310491  30.634794"
      ]
     },
     "execution_count": 68,
     "metadata": {},
     "output_type": "execute_result"
    }
   ],
   "source": [
    "c[c.city == 'PINETTA']"
   ]
  },
  {
   "cell_type": "code",
   "execution_count": 73,
   "id": "12b5ac09-10c0-4ba9-bee6-9ca4f73c6ac9",
   "metadata": {},
   "outputs": [
    {
     "data": {
      "text/html": [
       "<div>\n",
       "<style scoped>\n",
       "    .dataframe tbody tr th:only-of-type {\n",
       "        vertical-align: middle;\n",
       "    }\n",
       "\n",
       "    .dataframe tbody tr th {\n",
       "        vertical-align: top;\n",
       "    }\n",
       "\n",
       "    .dataframe thead th {\n",
       "        text-align: right;\n",
       "    }\n",
       "</style>\n",
       "<table border=\"1\" class=\"dataframe\">\n",
       "  <thead>\n",
       "    <tr style=\"text-align: right;\">\n",
       "      <th></th>\n",
       "      <th>state</th>\n",
       "      <th>city</th>\n",
       "      <th>longitude</th>\n",
       "      <th>latitude</th>\n",
       "    </tr>\n",
       "    <tr>\n",
       "      <th>zip</th>\n",
       "      <th></th>\n",
       "      <th></th>\n",
       "      <th></th>\n",
       "      <th></th>\n",
       "    </tr>\n",
       "  </thead>\n",
       "  <tbody>\n",
       "    <tr>\n",
       "      <th>32350</th>\n",
       "      <td>FL</td>\n",
       "      <td>PINETTA</td>\n",
       "      <td>83.340463</td>\n",
       "      <td>30.599703</td>\n",
       "    </tr>\n",
       "    <tr>\n",
       "      <th>32350</th>\n",
       "      <td>GA</td>\n",
       "      <td>PINETTA</td>\n",
       "      <td>83.310491</td>\n",
       "      <td>30.634794</td>\n",
       "    </tr>\n",
       "  </tbody>\n",
       "</table>\n",
       "</div>"
      ],
      "text/plain": [
       "      state     city  longitude   latitude\n",
       "zip                                       \n",
       "32350    FL  PINETTA  83.340463  30.599703\n",
       "32350    GA  PINETTA  83.310491  30.634794"
      ]
     },
     "execution_count": 73,
     "metadata": {},
     "output_type": "execute_result"
    }
   ],
   "source": [
    "c.loc['32350']"
   ]
  },
  {
   "cell_type": "code",
   "execution_count": 90,
   "id": "7f613aed-c4b7-4231-80a1-67a683d58807",
   "metadata": {},
   "outputs": [
    {
     "data": {
      "text/plain": [
       "dtype('float64')"
      ]
     },
     "execution_count": 90,
     "metadata": {},
     "output_type": "execute_result"
    }
   ],
   "source": [
    "c.longitude.values.dtype"
   ]
  },
  {
   "cell_type": "markdown",
   "id": "b586fb38-f3d8-4150-be1b-fdeb7a220f18",
   "metadata": {},
   "source": [
    "### Find the cities named Canton"
   ]
  },
  {
   "cell_type": "code",
   "execution_count": 103,
   "id": "1aeecaa1-7a93-4796-bb73-3196c3003e8e",
   "metadata": {},
   "outputs": [
    {
     "data": {
      "text/plain": [
       "18"
      ]
     },
     "execution_count": 103,
     "metadata": {},
     "output_type": "execute_result"
    }
   ],
   "source": [
    "c[c.city == 'CANTON'].state.unique().size"
   ]
  },
  {
   "cell_type": "markdown",
   "id": "e91b966f-6f48-453c-8f0f-0c378a4bb1cc",
   "metadata": {},
   "source": [
    "### Find the northern most zipcode"
   ]
  },
  {
   "cell_type": "code",
   "execution_count": 104,
   "id": "c70d6012-616f-440f-826c-b0b6300bd350",
   "metadata": {},
   "outputs": [
    {
     "data": {
      "text/html": [
       "<div>\n",
       "<style scoped>\n",
       "    .dataframe tbody tr th:only-of-type {\n",
       "        vertical-align: middle;\n",
       "    }\n",
       "\n",
       "    .dataframe tbody tr th {\n",
       "        vertical-align: top;\n",
       "    }\n",
       "\n",
       "    .dataframe thead th {\n",
       "        text-align: right;\n",
       "    }\n",
       "</style>\n",
       "<table border=\"1\" class=\"dataframe\">\n",
       "  <thead>\n",
       "    <tr style=\"text-align: right;\">\n",
       "      <th></th>\n",
       "      <th>state</th>\n",
       "      <th>city</th>\n",
       "      <th>longitude</th>\n",
       "      <th>latitude</th>\n",
       "    </tr>\n",
       "    <tr>\n",
       "      <th>zip</th>\n",
       "      <th></th>\n",
       "      <th></th>\n",
       "      <th></th>\n",
       "      <th></th>\n",
       "    </tr>\n",
       "  </thead>\n",
       "  <tbody>\n",
       "    <tr>\n",
       "      <th>99723</th>\n",
       "      <td>AK</td>\n",
       "      <td>BARROW</td>\n",
       "      <td>156.817409</td>\n",
       "      <td>71.234637</td>\n",
       "    </tr>\n",
       "  </tbody>\n",
       "</table>\n",
       "</div>"
      ],
      "text/plain": [
       "      state    city   longitude   latitude\n",
       "zip                                       \n",
       "99723    AK  BARROW  156.817409  71.234637"
      ]
     },
     "execution_count": 104,
     "metadata": {},
     "output_type": "execute_result"
    }
   ],
   "source": [
    "c.sort_values('latitude', ascending=False).head(1)"
   ]
  },
  {
   "cell_type": "code",
   "execution_count": 105,
   "id": "7cb255d8-b410-47e9-b508-0d97b81bc93b",
   "metadata": {},
   "outputs": [
    {
     "data": {
      "text/plain": [
       "state                AK\n",
       "city             BARROW\n",
       "longitude    156.817409\n",
       "latitude      71.234637\n",
       "Name: 99723, dtype: object"
      ]
     },
     "execution_count": 105,
     "metadata": {},
     "output_type": "execute_result"
    }
   ],
   "source": [
    "c.loc[c.latitude.idxmax()]"
   ]
  },
  {
   "cell_type": "code",
   "execution_count": 108,
   "id": "5c8a7eab-a919-43c9-a144-91c694276d7d",
   "metadata": {},
   "outputs": [
    {
     "data": {
      "text/html": [
       "<div>\n",
       "<style scoped>\n",
       "    .dataframe tbody tr th:only-of-type {\n",
       "        vertical-align: middle;\n",
       "    }\n",
       "\n",
       "    .dataframe tbody tr th {\n",
       "        vertical-align: top;\n",
       "    }\n",
       "\n",
       "    .dataframe thead th {\n",
       "        text-align: right;\n",
       "    }\n",
       "</style>\n",
       "<table border=\"1\" class=\"dataframe\">\n",
       "  <thead>\n",
       "    <tr style=\"text-align: right;\">\n",
       "      <th></th>\n",
       "      <th>state</th>\n",
       "      <th>city</th>\n",
       "      <th>longitude</th>\n",
       "      <th>latitude</th>\n",
       "    </tr>\n",
       "    <tr>\n",
       "      <th>zip</th>\n",
       "      <th></th>\n",
       "      <th></th>\n",
       "      <th></th>\n",
       "      <th></th>\n",
       "    </tr>\n",
       "  </thead>\n",
       "  <tbody>\n",
       "    <tr>\n",
       "      <th>99723</th>\n",
       "      <td>AK</td>\n",
       "      <td>BARROW</td>\n",
       "      <td>156.817409</td>\n",
       "      <td>71.234637</td>\n",
       "    </tr>\n",
       "  </tbody>\n",
       "</table>\n",
       "</div>"
      ],
      "text/plain": [
       "      state    city   longitude   latitude\n",
       "zip                                       \n",
       "99723    AK  BARROW  156.817409  71.234637"
      ]
     },
     "execution_count": 108,
     "metadata": {},
     "output_type": "execute_result"
    }
   ],
   "source": [
    "c[c.latitude == c.latitude.max()]"
   ]
  },
  {
   "cell_type": "code",
   "execution_count": 112,
   "id": "b50f4b28-9fb0-4f92-9524-9335f6d499b4",
   "metadata": {},
   "outputs": [
    {
     "data": {
      "text/html": [
       "<div>\n",
       "<style scoped>\n",
       "    .dataframe tbody tr th:only-of-type {\n",
       "        vertical-align: middle;\n",
       "    }\n",
       "\n",
       "    .dataframe tbody tr th {\n",
       "        vertical-align: top;\n",
       "    }\n",
       "\n",
       "    .dataframe thead th {\n",
       "        text-align: right;\n",
       "    }\n",
       "</style>\n",
       "<table border=\"1\" class=\"dataframe\">\n",
       "  <thead>\n",
       "    <tr style=\"text-align: right;\">\n",
       "      <th></th>\n",
       "      <th>state</th>\n",
       "      <th>city</th>\n",
       "      <th>longitude</th>\n",
       "      <th>latitude</th>\n",
       "    </tr>\n",
       "    <tr>\n",
       "      <th>zip</th>\n",
       "      <th></th>\n",
       "      <th></th>\n",
       "      <th></th>\n",
       "      <th></th>\n",
       "    </tr>\n",
       "  </thead>\n",
       "  <tbody>\n",
       "    <tr>\n",
       "      <th>04631</th>\n",
       "      <td>ME</td>\n",
       "      <td>EASTPORT</td>\n",
       "      <td>67.00739</td>\n",
       "      <td>44.919966</td>\n",
       "    </tr>\n",
       "  </tbody>\n",
       "</table>\n",
       "</div>"
      ],
      "text/plain": [
       "      state      city  longitude   latitude\n",
       "zip                                        \n",
       "04631    ME  EASTPORT   67.00739  44.919966"
      ]
     },
     "execution_count": 112,
     "metadata": {},
     "output_type": "execute_result"
    }
   ],
   "source": [
    "c[c.longitude == c.longitude.min()]"
   ]
  },
  {
   "cell_type": "code",
   "execution_count": 114,
   "id": "bd94d96e-907e-4ee1-bd60-f99989bf476c",
   "metadata": {},
   "outputs": [
    {
     "data": {
      "text/html": [
       "<div>\n",
       "<style scoped>\n",
       "    .dataframe tbody tr th:only-of-type {\n",
       "        vertical-align: middle;\n",
       "    }\n",
       "\n",
       "    .dataframe tbody tr th {\n",
       "        vertical-align: top;\n",
       "    }\n",
       "\n",
       "    .dataframe thead th {\n",
       "        text-align: right;\n",
       "    }\n",
       "</style>\n",
       "<table border=\"1\" class=\"dataframe\">\n",
       "  <thead>\n",
       "    <tr style=\"text-align: right;\">\n",
       "      <th></th>\n",
       "      <th>state</th>\n",
       "      <th>city</th>\n",
       "      <th>longitude</th>\n",
       "      <th>latitude</th>\n",
       "    </tr>\n",
       "    <tr>\n",
       "      <th>zip</th>\n",
       "      <th></th>\n",
       "      <th></th>\n",
       "      <th></th>\n",
       "      <th></th>\n",
       "    </tr>\n",
       "  </thead>\n",
       "  <tbody>\n",
       "    <tr>\n",
       "      <th>96701</th>\n",
       "      <td>HI</td>\n",
       "      <td>AIEA</td>\n",
       "      <td>157.933237</td>\n",
       "      <td>21.390795</td>\n",
       "    </tr>\n",
       "    <tr>\n",
       "      <th>96704</th>\n",
       "      <td>HI</td>\n",
       "      <td>CAPTAIN COOK</td>\n",
       "      <td>155.887463</td>\n",
       "      <td>19.438604</td>\n",
       "    </tr>\n",
       "    <tr>\n",
       "      <th>96705</th>\n",
       "      <td>HI</td>\n",
       "      <td>ELEELE</td>\n",
       "      <td>159.538115</td>\n",
       "      <td>21.923017</td>\n",
       "    </tr>\n",
       "    <tr>\n",
       "      <th>96706</th>\n",
       "      <td>HI</td>\n",
       "      <td>EWA BEACH</td>\n",
       "      <td>158.010307</td>\n",
       "      <td>21.327418</td>\n",
       "    </tr>\n",
       "    <tr>\n",
       "      <th>96707</th>\n",
       "      <td>HI</td>\n",
       "      <td>KAPOLEI</td>\n",
       "      <td>158.087007</td>\n",
       "      <td>21.345284</td>\n",
       "    </tr>\n",
       "    <tr>\n",
       "      <th>...</th>\n",
       "      <td>...</td>\n",
       "      <td>...</td>\n",
       "      <td>...</td>\n",
       "      <td>...</td>\n",
       "    </tr>\n",
       "    <tr>\n",
       "      <th>96819</th>\n",
       "      <td>HI</td>\n",
       "      <td>HONOLULU</td>\n",
       "      <td>157.875947</td>\n",
       "      <td>21.348770</td>\n",
       "    </tr>\n",
       "    <tr>\n",
       "      <th>96821</th>\n",
       "      <td>HI</td>\n",
       "      <td>HONOLULU</td>\n",
       "      <td>157.755242</td>\n",
       "      <td>21.292811</td>\n",
       "    </tr>\n",
       "    <tr>\n",
       "      <th>96822</th>\n",
       "      <td>HI</td>\n",
       "      <td>HONOLULU</td>\n",
       "      <td>157.829819</td>\n",
       "      <td>21.311704</td>\n",
       "    </tr>\n",
       "    <tr>\n",
       "      <th>96825</th>\n",
       "      <td>HI</td>\n",
       "      <td>HONOLULU</td>\n",
       "      <td>157.698523</td>\n",
       "      <td>21.298684</td>\n",
       "    </tr>\n",
       "    <tr>\n",
       "      <th>96826</th>\n",
       "      <td>HI</td>\n",
       "      <td>HONOLULU</td>\n",
       "      <td>157.828388</td>\n",
       "      <td>21.294139</td>\n",
       "    </tr>\n",
       "  </tbody>\n",
       "</table>\n",
       "<p>80 rows × 4 columns</p>\n",
       "</div>"
      ],
      "text/plain": [
       "      state          city   longitude   latitude\n",
       "zip                                             \n",
       "96701    HI          AIEA  157.933237  21.390795\n",
       "96704    HI  CAPTAIN COOK  155.887463  19.438604\n",
       "96705    HI        ELEELE  159.538115  21.923017\n",
       "96706    HI     EWA BEACH  158.010307  21.327418\n",
       "96707    HI       KAPOLEI  158.087007  21.345284\n",
       "...     ...           ...         ...        ...\n",
       "96819    HI      HONOLULU  157.875947  21.348770\n",
       "96821    HI      HONOLULU  157.755242  21.292811\n",
       "96822    HI      HONOLULU  157.829819  21.311704\n",
       "96825    HI      HONOLULU  157.698523  21.298684\n",
       "96826    HI      HONOLULU  157.828388  21.294139\n",
       "\n",
       "[80 rows x 4 columns]"
      ]
     },
     "execution_count": 114,
     "metadata": {},
     "output_type": "execute_result"
    }
   ],
   "source": [
    "c[c.state == 'HI']"
   ]
  },
  {
   "cell_type": "markdown",
   "id": "ebe509b6-945a-411f-8ca7-8517fbeb62e0",
   "metadata": {},
   "source": [
    "### Average speed of unladen swallow"
   ]
  },
  {
   "cell_type": "code",
   "execution_count": 85,
   "id": "c3f8bd25-c9c1-4433-ad51-37a8a4d5947e",
   "metadata": {},
   "outputs": [],
   "source": [
    "bird_speed = pd.read_csv(url_base + 'swallow-speeds.txt',\n",
    "                        header = None)"
   ]
  },
  {
   "cell_type": "markdown",
   "id": "6879cd1e-2441-4080-ba3d-112ab6070d51",
   "metadata": {},
   "source": [
    "### GDP"
   ]
  },
  {
   "cell_type": "code",
   "execution_count": 115,
   "id": "b78257e2-e5ac-407e-9132-9f77925f6eb4",
   "metadata": {},
   "outputs": [],
   "source": [
    "file = 'gdp_per_capita.csv'\n",
    "\n",
    "# Sort the table by GDP (and make sure table \n",
    "# is updated permanently)\n",
    "\n",
    "# What should we use as an index?"
   ]
  },
  {
   "cell_type": "code",
   "execution_count": 123,
   "id": "6e95e25e-3a6a-4ec8-bed2-740eeb2ac9c4",
   "metadata": {},
   "outputs": [],
   "source": [
    "gdp_per_capita = pd.read_csv(url_base+file, delimiter='\\t',\n",
    "                            encoding='latin1',\n",
    "                            na_values='n/a',\n",
    "                            thousands=',')"
   ]
  },
  {
   "cell_type": "code",
   "execution_count": 125,
   "id": "9605b93f-6631-4d2f-96ae-6ea275824a2c",
   "metadata": {},
   "outputs": [
    {
     "data": {
      "text/html": [
       "<div>\n",
       "<style scoped>\n",
       "    .dataframe tbody tr th:only-of-type {\n",
       "        vertical-align: middle;\n",
       "    }\n",
       "\n",
       "    .dataframe tbody tr th {\n",
       "        vertical-align: top;\n",
       "    }\n",
       "\n",
       "    .dataframe thead th {\n",
       "        text-align: right;\n",
       "    }\n",
       "</style>\n",
       "<table border=\"1\" class=\"dataframe\">\n",
       "  <thead>\n",
       "    <tr style=\"text-align: right;\">\n",
       "      <th></th>\n",
       "      <th>Country</th>\n",
       "      <th>Subject Descriptor</th>\n",
       "      <th>Units</th>\n",
       "      <th>Scale</th>\n",
       "      <th>Country/Series-specific Notes</th>\n",
       "      <th>2015</th>\n",
       "      <th>Estimates Start After</th>\n",
       "    </tr>\n",
       "  </thead>\n",
       "  <tbody>\n",
       "    <tr>\n",
       "      <th>152</th>\n",
       "      <td>South Sudan</td>\n",
       "      <td>Gross domestic product per capita, current prices</td>\n",
       "      <td>U.S. dollars</td>\n",
       "      <td>Units</td>\n",
       "      <td>See notes for:  Gross domestic product, curren...</td>\n",
       "      <td>220.86</td>\n",
       "      <td>2008.0</td>\n",
       "    </tr>\n",
       "  </tbody>\n",
       "</table>\n",
       "</div>"
      ],
      "text/plain": [
       "         Country                                 Subject Descriptor  \\\n",
       "152  South Sudan  Gross domestic product per capita, current prices   \n",
       "\n",
       "            Units  Scale                      Country/Series-specific Notes  \\\n",
       "152  U.S. dollars  Units  See notes for:  Gross domestic product, curren...   \n",
       "\n",
       "       2015  Estimates Start After  \n",
       "152  220.86                 2008.0  "
      ]
     },
     "execution_count": 125,
     "metadata": {},
     "output_type": "execute_result"
    }
   ],
   "source": [
    "gdp_per_capita[gdp_per_capita['2015'] == gdp_per_capita['2015'].min()]"
   ]
  },
  {
   "cell_type": "code",
   "execution_count": 127,
   "id": "fd99f582-08c9-4055-a31e-922209d3424a",
   "metadata": {},
   "outputs": [],
   "source": [
    "gdp_per_capita = gdp_per_capita.set_index('Country')"
   ]
  },
  {
   "cell_type": "code",
   "execution_count": 128,
   "id": "39f5b16b-1588-4aeb-9977-80b362c6eb4b",
   "metadata": {},
   "outputs": [
    {
     "data": {
      "text/html": [
       "<div>\n",
       "<style scoped>\n",
       "    .dataframe tbody tr th:only-of-type {\n",
       "        vertical-align: middle;\n",
       "    }\n",
       "\n",
       "    .dataframe tbody tr th {\n",
       "        vertical-align: top;\n",
       "    }\n",
       "\n",
       "    .dataframe thead th {\n",
       "        text-align: right;\n",
       "    }\n",
       "</style>\n",
       "<table border=\"1\" class=\"dataframe\">\n",
       "  <thead>\n",
       "    <tr style=\"text-align: right;\">\n",
       "      <th></th>\n",
       "      <th>Subject Descriptor</th>\n",
       "      <th>Units</th>\n",
       "      <th>Scale</th>\n",
       "      <th>Country/Series-specific Notes</th>\n",
       "      <th>2015</th>\n",
       "      <th>Estimates Start After</th>\n",
       "    </tr>\n",
       "    <tr>\n",
       "      <th>Country</th>\n",
       "      <th></th>\n",
       "      <th></th>\n",
       "      <th></th>\n",
       "      <th></th>\n",
       "      <th></th>\n",
       "      <th></th>\n",
       "    </tr>\n",
       "  </thead>\n",
       "  <tbody>\n",
       "    <tr>\n",
       "      <th>Afghanistan</th>\n",
       "      <td>Gross domestic product per capita, current prices</td>\n",
       "      <td>U.S. dollars</td>\n",
       "      <td>Units</td>\n",
       "      <td>See notes for:  Gross domestic product, curren...</td>\n",
       "      <td>599.994</td>\n",
       "      <td>2013.0</td>\n",
       "    </tr>\n",
       "    <tr>\n",
       "      <th>Albania</th>\n",
       "      <td>Gross domestic product per capita, current prices</td>\n",
       "      <td>U.S. dollars</td>\n",
       "      <td>Units</td>\n",
       "      <td>See notes for:  Gross domestic product, curren...</td>\n",
       "      <td>3995.383</td>\n",
       "      <td>2010.0</td>\n",
       "    </tr>\n",
       "    <tr>\n",
       "      <th>Algeria</th>\n",
       "      <td>Gross domestic product per capita, current prices</td>\n",
       "      <td>U.S. dollars</td>\n",
       "      <td>Units</td>\n",
       "      <td>See notes for:  Gross domestic product, curren...</td>\n",
       "      <td>4318.135</td>\n",
       "      <td>2014.0</td>\n",
       "    </tr>\n",
       "    <tr>\n",
       "      <th>Angola</th>\n",
       "      <td>Gross domestic product per capita, current prices</td>\n",
       "      <td>U.S. dollars</td>\n",
       "      <td>Units</td>\n",
       "      <td>See notes for:  Gross domestic product, curren...</td>\n",
       "      <td>4100.315</td>\n",
       "      <td>2014.0</td>\n",
       "    </tr>\n",
       "    <tr>\n",
       "      <th>Antigua and Barbuda</th>\n",
       "      <td>Gross domestic product per capita, current prices</td>\n",
       "      <td>U.S. dollars</td>\n",
       "      <td>Units</td>\n",
       "      <td>See notes for:  Gross domestic product, curren...</td>\n",
       "      <td>14414.302</td>\n",
       "      <td>2011.0</td>\n",
       "    </tr>\n",
       "    <tr>\n",
       "      <th>...</th>\n",
       "      <td>...</td>\n",
       "      <td>...</td>\n",
       "      <td>...</td>\n",
       "      <td>...</td>\n",
       "      <td>...</td>\n",
       "      <td>...</td>\n",
       "    </tr>\n",
       "    <tr>\n",
       "      <th>Vietnam</th>\n",
       "      <td>Gross domestic product per capita, current prices</td>\n",
       "      <td>U.S. dollars</td>\n",
       "      <td>Units</td>\n",
       "      <td>See notes for:  Gross domestic product, curren...</td>\n",
       "      <td>2088.344</td>\n",
       "      <td>2012.0</td>\n",
       "    </tr>\n",
       "    <tr>\n",
       "      <th>Yemen</th>\n",
       "      <td>Gross domestic product per capita, current prices</td>\n",
       "      <td>U.S. dollars</td>\n",
       "      <td>Units</td>\n",
       "      <td>See notes for:  Gross domestic product, curren...</td>\n",
       "      <td>1302.940</td>\n",
       "      <td>2008.0</td>\n",
       "    </tr>\n",
       "    <tr>\n",
       "      <th>Zambia</th>\n",
       "      <td>Gross domestic product per capita, current prices</td>\n",
       "      <td>U.S. dollars</td>\n",
       "      <td>Units</td>\n",
       "      <td>See notes for:  Gross domestic product, curren...</td>\n",
       "      <td>1350.151</td>\n",
       "      <td>2010.0</td>\n",
       "    </tr>\n",
       "    <tr>\n",
       "      <th>Zimbabwe</th>\n",
       "      <td>Gross domestic product per capita, current prices</td>\n",
       "      <td>U.S. dollars</td>\n",
       "      <td>Units</td>\n",
       "      <td>See notes for:  Gross domestic product, curren...</td>\n",
       "      <td>1064.350</td>\n",
       "      <td>2012.0</td>\n",
       "    </tr>\n",
       "    <tr>\n",
       "      <th>International Monetary Fund, World Economic Outlook Database, April 2016</th>\n",
       "      <td>NaN</td>\n",
       "      <td>NaN</td>\n",
       "      <td>NaN</td>\n",
       "      <td>NaN</td>\n",
       "      <td>NaN</td>\n",
       "      <td>NaN</td>\n",
       "    </tr>\n",
       "  </tbody>\n",
       "</table>\n",
       "<p>190 rows × 6 columns</p>\n",
       "</div>"
      ],
      "text/plain": [
       "                                                                                   Subject Descriptor  \\\n",
       "Country                                                                                                 \n",
       "Afghanistan                                         Gross domestic product per capita, current prices   \n",
       "Albania                                             Gross domestic product per capita, current prices   \n",
       "Algeria                                             Gross domestic product per capita, current prices   \n",
       "Angola                                              Gross domestic product per capita, current prices   \n",
       "Antigua and Barbuda                                 Gross domestic product per capita, current prices   \n",
       "...                                                                                               ...   \n",
       "Vietnam                                             Gross domestic product per capita, current prices   \n",
       "Yemen                                               Gross domestic product per capita, current prices   \n",
       "Zambia                                              Gross domestic product per capita, current prices   \n",
       "Zimbabwe                                            Gross domestic product per capita, current prices   \n",
       "International Monetary Fund, World Economic Out...                                                NaN   \n",
       "\n",
       "                                                           Units  Scale  \\\n",
       "Country                                                                   \n",
       "Afghanistan                                         U.S. dollars  Units   \n",
       "Albania                                             U.S. dollars  Units   \n",
       "Algeria                                             U.S. dollars  Units   \n",
       "Angola                                              U.S. dollars  Units   \n",
       "Antigua and Barbuda                                 U.S. dollars  Units   \n",
       "...                                                          ...    ...   \n",
       "Vietnam                                             U.S. dollars  Units   \n",
       "Yemen                                               U.S. dollars  Units   \n",
       "Zambia                                              U.S. dollars  Units   \n",
       "Zimbabwe                                            U.S. dollars  Units   \n",
       "International Monetary Fund, World Economic Out...           NaN    NaN   \n",
       "\n",
       "                                                                        Country/Series-specific Notes  \\\n",
       "Country                                                                                                 \n",
       "Afghanistan                                         See notes for:  Gross domestic product, curren...   \n",
       "Albania                                             See notes for:  Gross domestic product, curren...   \n",
       "Algeria                                             See notes for:  Gross domestic product, curren...   \n",
       "Angola                                              See notes for:  Gross domestic product, curren...   \n",
       "Antigua and Barbuda                                 See notes for:  Gross domestic product, curren...   \n",
       "...                                                                                               ...   \n",
       "Vietnam                                             See notes for:  Gross domestic product, curren...   \n",
       "Yemen                                               See notes for:  Gross domestic product, curren...   \n",
       "Zambia                                              See notes for:  Gross domestic product, curren...   \n",
       "Zimbabwe                                            See notes for:  Gross domestic product, curren...   \n",
       "International Monetary Fund, World Economic Out...                                                NaN   \n",
       "\n",
       "                                                         2015  \\\n",
       "Country                                                         \n",
       "Afghanistan                                           599.994   \n",
       "Albania                                              3995.383   \n",
       "Algeria                                              4318.135   \n",
       "Angola                                               4100.315   \n",
       "Antigua and Barbuda                                 14414.302   \n",
       "...                                                       ...   \n",
       "Vietnam                                              2088.344   \n",
       "Yemen                                                1302.940   \n",
       "Zambia                                               1350.151   \n",
       "Zimbabwe                                             1064.350   \n",
       "International Monetary Fund, World Economic Out...        NaN   \n",
       "\n",
       "                                                    Estimates Start After  \n",
       "Country                                                                    \n",
       "Afghanistan                                                        2013.0  \n",
       "Albania                                                            2010.0  \n",
       "Algeria                                                            2014.0  \n",
       "Angola                                                             2014.0  \n",
       "Antigua and Barbuda                                                2011.0  \n",
       "...                                                                   ...  \n",
       "Vietnam                                                            2012.0  \n",
       "Yemen                                                              2008.0  \n",
       "Zambia                                                             2010.0  \n",
       "Zimbabwe                                                           2012.0  \n",
       "International Monetary Fund, World Economic Out...                    NaN  \n",
       "\n",
       "[190 rows x 6 columns]"
      ]
     },
     "execution_count": 128,
     "metadata": {},
     "output_type": "execute_result"
    }
   ],
   "source": [
    "gdp_per_capita"
   ]
  },
  {
   "cell_type": "code",
   "execution_count": 130,
   "id": "e741b70a-c31e-4a82-92a5-866a8f4f349a",
   "metadata": {},
   "outputs": [
    {
     "data": {
      "text/html": [
       "<div>\n",
       "<style scoped>\n",
       "    .dataframe tbody tr th:only-of-type {\n",
       "        vertical-align: middle;\n",
       "    }\n",
       "\n",
       "    .dataframe tbody tr th {\n",
       "        vertical-align: top;\n",
       "    }\n",
       "\n",
       "    .dataframe thead th {\n",
       "        text-align: right;\n",
       "    }\n",
       "</style>\n",
       "<table border=\"1\" class=\"dataframe\">\n",
       "  <thead>\n",
       "    <tr style=\"text-align: right;\">\n",
       "      <th></th>\n",
       "      <th>Subject Descriptor</th>\n",
       "      <th>Units</th>\n",
       "      <th>Scale</th>\n",
       "      <th>Country/Series-specific Notes</th>\n",
       "      <th>2015</th>\n",
       "      <th>Estimates Start After</th>\n",
       "    </tr>\n",
       "    <tr>\n",
       "      <th>Country</th>\n",
       "      <th></th>\n",
       "      <th></th>\n",
       "      <th></th>\n",
       "      <th></th>\n",
       "      <th></th>\n",
       "      <th></th>\n",
       "    </tr>\n",
       "  </thead>\n",
       "  <tbody>\n",
       "    <tr>\n",
       "      <th>International Monetary Fund, World Economic Outlook Database, April 2016</th>\n",
       "      <td>NaN</td>\n",
       "      <td>NaN</td>\n",
       "      <td>NaN</td>\n",
       "      <td>NaN</td>\n",
       "      <td>NaN</td>\n",
       "      <td>NaN</td>\n",
       "    </tr>\n",
       "  </tbody>\n",
       "</table>\n",
       "</div>"
      ],
      "text/plain": [
       "                                                   Subject Descriptor Units  \\\n",
       "Country                                                                       \n",
       "International Monetary Fund, World Economic Out...                NaN   NaN   \n",
       "\n",
       "                                                   Scale  \\\n",
       "Country                                                    \n",
       "International Monetary Fund, World Economic Out...   NaN   \n",
       "\n",
       "                                                   Country/Series-specific Notes  \\\n",
       "Country                                                                            \n",
       "International Monetary Fund, World Economic Out...                           NaN   \n",
       "\n",
       "                                                    2015  \\\n",
       "Country                                                    \n",
       "International Monetary Fund, World Economic Out...   NaN   \n",
       "\n",
       "                                                    Estimates Start After  \n",
       "Country                                                                    \n",
       "International Monetary Fund, World Economic Out...                    NaN  "
      ]
     },
     "execution_count": 130,
     "metadata": {},
     "output_type": "execute_result"
    }
   ],
   "source": [
    "gdp_per_capita.sort_values('2015').tail(1)"
   ]
  },
  {
   "cell_type": "code",
   "execution_count": null,
   "id": "27c3e1eb-8648-4efc-b101-38ebe54b7748",
   "metadata": {},
   "outputs": [],
   "source": []
  }
 ],
 "metadata": {
  "kernelspec": {
   "display_name": "Python 3",
   "language": "python",
   "name": "python3"
  },
  "language_info": {
   "codemirror_mode": {
    "name": "ipython",
    "version": 3
   },
   "file_extension": ".py",
   "mimetype": "text/x-python",
   "name": "python",
   "nbconvert_exporter": "python",
   "pygments_lexer": "ipython3",
   "version": "3.7.10"
  }
 },
 "nbformat": 4,
 "nbformat_minor": 5
}
