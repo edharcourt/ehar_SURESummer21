{
 "cells": [
  {
   "cell_type": "markdown",
   "id": "c16d1fa6-93cc-4ffc-b1f3-ee101da2de5b",
   "metadata": {},
   "source": [
    "# Day 2\n",
    "\n",
    "## More Python Fundamentals"
   ]
  },
  {
   "cell_type": "code",
   "execution_count": 1,
   "id": "65cd792d-1c59-478f-a8b2-0104743a184f",
   "metadata": {},
   "outputs": [
    {
     "name": "stdout",
     "output_type": "stream",
     "text": [
      "1225\n"
     ]
    }
   ],
   "source": [
    "x = int(\"35\")\n",
    "print(x**2)"
   ]
  },
  {
   "cell_type": "code",
   "execution_count": 2,
   "id": "639ff357-e4ea-4ee3-9545-8d8042e6fa97",
   "metadata": {},
   "outputs": [
    {
     "data": {
      "text/plain": [
       "int"
      ]
     },
     "execution_count": 2,
     "metadata": {},
     "output_type": "execute_result"
    }
   ],
   "source": [
    "type(x)"
   ]
  },
  {
   "cell_type": "code",
   "execution_count": 3,
   "id": "ef97930c-8bfe-4bf5-b938-ffe40f02382c",
   "metadata": {},
   "outputs": [],
   "source": [
    "pi = float(\"3.14159\")"
   ]
  },
  {
   "cell_type": "code",
   "execution_count": 4,
   "id": "e52dc4e4-e996-4cbe-b985-fb39cf70d369",
   "metadata": {},
   "outputs": [
    {
     "name": "stdout",
     "output_type": "stream",
     "text": [
      "9.869587728099999\n"
     ]
    }
   ],
   "source": [
    "print(pi**2)"
   ]
  },
  {
   "cell_type": "code",
   "execution_count": 6,
   "id": "e048f42e-908e-4683-aab7-91c0353b7b47",
   "metadata": {},
   "outputs": [],
   "source": [
    "im = 3+5j"
   ]
  },
  {
   "cell_type": "code",
   "execution_count": 7,
   "id": "d36c42c8-5734-4e5d-b64d-e481b89cbc2e",
   "metadata": {},
   "outputs": [
    {
     "data": {
      "text/plain": [
       "(-16+30j)"
      ]
     },
     "execution_count": 7,
     "metadata": {},
     "output_type": "execute_result"
    }
   ],
   "source": [
    "im**2"
   ]
  },
  {
   "cell_type": "code",
   "execution_count": 8,
   "id": "6b11f4c1-7b98-4faa-9969-df40fe90ff84",
   "metadata": {},
   "outputs": [],
   "source": [
    "s = str(35)"
   ]
  },
  {
   "cell_type": "code",
   "execution_count": 9,
   "id": "a71b87d6-775b-46e4-9e65-e95bdadb0081",
   "metadata": {},
   "outputs": [
    {
     "name": "stdout",
     "output_type": "stream",
     "text": [
      "35\n"
     ]
    }
   ],
   "source": [
    "print(s)"
   ]
  },
  {
   "cell_type": "code",
   "execution_count": 10,
   "id": "1eac7fe3-0b1c-4414-9ee6-35c479c06a13",
   "metadata": {},
   "outputs": [
    {
     "data": {
      "text/plain": [
       "str"
      ]
     },
     "execution_count": 10,
     "metadata": {},
     "output_type": "execute_result"
    }
   ],
   "source": [
    "type(s)"
   ]
  },
  {
   "cell_type": "code",
   "execution_count": 11,
   "id": "188e6432-9860-4824-8474-b82bc3045edb",
   "metadata": {},
   "outputs": [
    {
     "ename": "ValueError",
     "evalue": "invalid literal for int() with base 10: '35z'",
     "output_type": "error",
     "traceback": [
      "\u001b[1;31m---------------------------------------------------------------------------\u001b[0m",
      "\u001b[1;31mValueError\u001b[0m                                Traceback (most recent call last)",
      "\u001b[1;32m<ipython-input-11-469298239fea>\u001b[0m in \u001b[0;36m<module>\u001b[1;34m\u001b[0m\n\u001b[1;32m----> 1\u001b[1;33m \u001b[0mz\u001b[0m \u001b[1;33m=\u001b[0m \u001b[0mint\u001b[0m\u001b[1;33m(\u001b[0m\u001b[1;34m\"35z\"\u001b[0m\u001b[1;33m)\u001b[0m\u001b[1;33m\u001b[0m\u001b[1;33m\u001b[0m\u001b[0m\n\u001b[0m",
      "\u001b[1;31mValueError\u001b[0m: invalid literal for int() with base 10: '35z'"
     ]
    }
   ],
   "source": [
    "z = int(\"35z\")"
   ]
  },
  {
   "cell_type": "code",
   "execution_count": 20,
   "id": "ac41fe77-b066-4751-a391-21ecfb350f6a",
   "metadata": {},
   "outputs": [
    {
     "name": "stdout",
     "output_type": "stream",
     "text": [
      "invalid literal for int() with base 10: '35z'\n",
      "Zipitty doo dah\n"
     ]
    }
   ],
   "source": [
    "try:\n",
    "    x = int(\"35z\")\n",
    "except ValueError as e:\n",
    "    print(e)\n",
    "else:\n",
    "    print(x**2) # only executes if try is successful\n",
    "finally:\n",
    "    print(\"Zipitty doo dah\") # executes always\n"
   ]
  },
  {
   "cell_type": "markdown",
   "id": "018fcdb0-f9fc-4dba-992b-67f975df9635",
   "metadata": {},
   "source": [
    "### In class exercise \n",
    "\n",
    "Write a program to read in the data from the file `swallow-speeds.txt` and use it to calculate the average air-speed velocity of an (unladen) African swallow (not European). \n",
    "\n",
    "```python\n",
    "url_base = \"http://10.40.6.14/~ehar/sure/data/\"\n",
    "file = 'swallow-speeds.txt'\n",
    "```\n",
    "\n",
    "---\n",
    "\n",
    "I borrowed this problem from [here](https://scipython.com/book2/chapter-4-the-core-python-language-ii/problems/average-air-speed-of-an-unladen-african-swallow/).\n",
    "\n",
    "The joke is \n",
    "\n",
    "* https://www.youtube.com/watch?v=liIlW-ovx0Y\n",
    "* https://www.youtube.com/watch?v=uio1J2PKzLI"
   ]
  },
  {
   "cell_type": "code",
   "execution_count": 30,
   "id": "759f05c2-b7f2-4eaf-8c15-79dabbfc5f53",
   "metadata": {},
   "outputs": [
    {
     "name": "stdout",
     "output_type": "stream",
     "text": [
      "Bad data: # https://scipython.com/static/media/problems/P4.1/swallow-speeds.txt\n",
      "Bad data: # swallow-speeds.txt\n",
      "Bad data: # Airspeed velocities of unladen African swallow (m.s-1)\n",
      "Bad data: # Invalid data is indicated by #\n",
      "Bad data: \n",
      "Bad data: 99.9 #\n",
      "Bad data: 0.0 #\n",
      "Bad data: \n",
      "The average air speed on unladen African Swallow is 10.3 Cam\n"
     ]
    }
   ],
   "source": [
    "import requests \n",
    "url_base = \"http://10.40.6.14/~ehar/sure/data/\"\n",
    "file = 'swallow-speeds.txt'\n",
    "url = url_base + file\n",
    "r = requests.get(url)\n",
    "total = 0\n",
    "cnt = 0\n",
    "\n",
    "for line in r.text.split('\\n'):\n",
    "    try:\n",
    "        x = float(line)\n",
    "    except ValueError as e:\n",
    "        print(\"Bad data: {0}\".format(line))\n",
    "    else:\n",
    "        total += x\n",
    "        cnt += 1\n",
    "\n",
    "print(\"The average air speed on unladen African Swallow is {0} {1}\".format(round(total/cnt,1), \"Cam\"))        \n",
    "        "
   ]
  },
  {
   "cell_type": "markdown",
   "id": "42fdd088-7f95-4369-9382-c1252f07c246",
   "metadata": {},
   "source": [
    "# Zip Codes"
   ]
  },
  {
   "cell_type": "code",
   "execution_count": 14,
   "id": "7df63033-2367-493b-8d4c-df25c8b029bf",
   "metadata": {},
   "outputs": [
    {
     "name": "stdout",
     "output_type": "stream",
     "text": [
      "29470\n"
     ]
    }
   ],
   "source": [
    "import requests\n",
    "\n",
    "url_base = \"http://10.40.6.14/~ehar/sure/data/\"\n",
    "file = 'zips.csv'\n",
    "url = url_base + file\n",
    "\n",
    "try:\n",
    "    r = requests.get(url)  # What could go wrong????\n",
    "except ConnectionError as e:\n",
    "    print(\"Coult not get URL{0}\".format(url))\n",
    "else:    \n",
    "    zip_data = []\n",
    "\n",
    "    for line in r.text.split('\\n'):\n",
    "        if len(line.strip()) == 0:\n",
    "            continue\n",
    "        t     = line.split(',')\n",
    "        code  = t[1][1:-1]\n",
    "        state = t[2][1:-1]\n",
    "        city  = t[3][1:-1]\n",
    "        lon   = float(t[4])\n",
    "        lat   = float(t[5])\n",
    "        zip_data.append((code, state, city, lon, lat))\n",
    "\n",
    "    print(len(zip_data))\n",
    "        \n",
    "\n",
    "        \n",
    "        \n",
    "        \n"
   ]
  },
  {
   "cell_type": "markdown",
   "id": "a8422efc-11d0-4780-b1a4-2110eb10617d",
   "metadata": {},
   "source": [
    "## Exercise\n",
    "\n",
    "Find the latitude and longitude for your home town zip."
   ]
  },
  {
   "cell_type": "code",
   "execution_count": 15,
   "id": "facd7eb4-4fc9-4f63-8217-f18e3bc21020",
   "metadata": {},
   "outputs": [
    {
     "data": {
      "text/plain": [
       "('35004', 'AL', 'ACMAR', 86.51557, 33.584132)"
      ]
     },
     "execution_count": 15,
     "metadata": {},
     "output_type": "execute_result"
    }
   ],
   "source": [
    "zip_data[0]"
   ]
  },
  {
   "cell_type": "code",
   "execution_count": 13,
   "id": "14c0c75f-1737-4621-a103-7a294725f2b5",
   "metadata": {},
   "outputs": [
    {
     "data": {
      "text/plain": [
       "'ACMAR'"
      ]
     },
     "execution_count": 13,
     "metadata": {},
     "output_type": "execute_result"
    }
   ],
   "source": [
    "zip_data[0][2][1:-1]"
   ]
  },
  {
   "cell_type": "code",
   "execution_count": 16,
   "id": "1780b30c-d9e4-4145-8631-be073f93fb64",
   "metadata": {},
   "outputs": [
    {
     "name": "stdout",
     "output_type": "stream",
     "text": [
      "75.162792 44.592442\n"
     ]
    }
   ],
   "source": [
    "zc = '13617'\n",
    "for (code, state, city, lon, lat) in zip_data:\n",
    "    if code == zc:\n",
    "        print(lon, lat)\n",
    "        break"
   ]
  },
  {
   "cell_type": "markdown",
   "id": "9a300b5f-ab8e-4a52-8346-508a5a612726",
   "metadata": {},
   "source": [
    "## Dictionary"
   ]
  },
  {
   "cell_type": "code",
   "execution_count": 18,
   "id": "3fbf6b05-3158-4638-84aa-724c641e6c1c",
   "metadata": {},
   "outputs": [],
   "source": [
    "names = dict()\n",
    "names['grace'] = 'Lee'\n",
    "names['cam'] = 'Whitman'\n",
    "names['jonah'] = 'Lee'\n",
    "names['kevin'] = 'Whitman'\n",
    "names['olivia'] = 'Whitman'\n",
    "names['kai'] = 'Norway'\n",
    "\n"
   ]
  },
  {
   "cell_type": "code",
   "execution_count": 19,
   "id": "1f498527-2242-4969-ad2b-16d04a33c9af",
   "metadata": {},
   "outputs": [
    {
     "name": "stdout",
     "output_type": "stream",
     "text": [
      "Norway\n"
     ]
    }
   ],
   "source": [
    "print(names['kai'])"
   ]
  },
  {
   "cell_type": "code",
   "execution_count": 20,
   "id": "b364ae50-3469-4624-922d-12fd2cd93b16",
   "metadata": {},
   "outputs": [],
   "source": [
    "names[55] = 'Ed'"
   ]
  },
  {
   "cell_type": "code",
   "execution_count": 21,
   "id": "cecb5f3e-e2d5-4b4c-b498-318ee7258bb6",
   "metadata": {},
   "outputs": [],
   "source": [
    "names[('a','b')] = 'Fred'"
   ]
  },
  {
   "cell_type": "code",
   "execution_count": 23,
   "id": "1bc4b313-53c7-4687-ad28-4139e8fe1199",
   "metadata": {},
   "outputs": [
    {
     "data": {
      "text/plain": [
       "dict_keys(['grace', 'cam', 'jonah', 'kevin', 'olivia', 'kai', 55, ('a', 'b')])"
      ]
     },
     "execution_count": 23,
     "metadata": {},
     "output_type": "execute_result"
    }
   ],
   "source": [
    "# key/value store\n",
    "names.keys()"
   ]
  },
  {
   "cell_type": "code",
   "execution_count": 24,
   "id": "63d0b200-2921-468d-8a7f-90af635e3046",
   "metadata": {},
   "outputs": [
    {
     "data": {
      "text/plain": [
       "dict_values(['Lee', 'Whitman', 'Lee', 'Whitman', 'Whitman', 'Norway', 'Ed', 'Fred'])"
      ]
     },
     "execution_count": 24,
     "metadata": {},
     "output_type": "execute_result"
    }
   ],
   "source": [
    "names.values()"
   ]
  },
  {
   "cell_type": "code",
   "execution_count": 26,
   "id": "e9adb9df-7384-40a6-85ab-c438e5b8fbfd",
   "metadata": {},
   "outputs": [],
   "source": [
    "names['olivia'] = ['Whitman', 134]"
   ]
  },
  {
   "cell_type": "code",
   "execution_count": 28,
   "id": "7726bb8e-c24b-4787-8a07-f05a5b2682c3",
   "metadata": {},
   "outputs": [],
   "source": [
    "names['olivia'].append('Skier')"
   ]
  },
  {
   "cell_type": "code",
   "execution_count": 29,
   "id": "7d6e7e0c-5d14-4c36-8465-715f4cb20ca6",
   "metadata": {},
   "outputs": [
    {
     "data": {
      "text/plain": [
       "['Whitman', 134, 'Skier']"
      ]
     },
     "execution_count": 29,
     "metadata": {},
     "output_type": "execute_result"
    }
   ],
   "source": [
    "names['olivia']"
   ]
  },
  {
   "cell_type": "code",
   "execution_count": 35,
   "id": "573e83a3-ef47-46ac-98c1-12a4ff255f03",
   "metadata": {},
   "outputs": [],
   "source": [
    "import requests\n",
    "\n",
    "from typing import List, Tuple, Dict\n",
    "\n",
    "ZipEntry = Tuple[str, str, float, float] \n",
    "\n",
    "def load_zips() -> Dict[str,List[ZipEntry]]:\n",
    "    \n",
    "    url_base = \"http://10.40.6.14/~ehar/sure/data/\"\n",
    "    file = 'zips.csv'\n",
    "    url = url_base + file\n",
    "\n",
    "    try:\n",
    "        r = requests.get(url)  # What could go wrong????\n",
    "    except ConnectionError as e:\n",
    "        print(\"Coult not get URL{0}\".format(url))\n",
    "    else:    \n",
    "        zip_data = dict()\n",
    "\n",
    "        for line in r.text.split('\\n'):\n",
    "            if len(line.strip()) == 0:\n",
    "                continue\n",
    "            t     = line.split(',')\n",
    "            code  = t[1][1:-1]\n",
    "            state = t[2][1:-1]\n",
    "            city  = t[3][1:-1]\n",
    "            lon   = float(t[4])\n",
    "            lat   = float(t[5])\n",
    "\n",
    "            if code not in zip_data:\n",
    "                zip_data[code] = []\n",
    "\n",
    "            zip_data[code].append((state, city, lon, lat))\n",
    "        \n",
    "        return zip_data\n",
    "    \n",
    "    print(len(zip_data))\n",
    "        \n"
   ]
  },
  {
   "cell_type": "code",
   "execution_count": 36,
   "id": "e2b89fa7-8d7a-46de-bcb2-6228cce403c4",
   "metadata": {},
   "outputs": [],
   "source": [
    "zip_data = load_zips()"
   ]
  },
  {
   "cell_type": "code",
   "execution_count": 37,
   "id": "c00359c8-f300-4663-bc59-dd06f7ad6bfa",
   "metadata": {},
   "outputs": [
    {
     "data": {
      "text/plain": [
       "[('NY', 'CANTON', 75.162792, 44.592442)]"
      ]
     },
     "execution_count": 37,
     "metadata": {},
     "output_type": "execute_result"
    }
   ],
   "source": [
    "zip_data['13617']"
   ]
  },
  {
   "cell_type": "code",
   "execution_count": 38,
   "id": "28b3f9d8-0158-4778-b709-86240526ee57",
   "metadata": {},
   "outputs": [
    {
     "name": "stdout",
     "output_type": "stream",
     "text": [
      "[('FL', 'PINETTA', 83.340463, 30.599703), ('GA', 'PINETTA', 83.310491, 30.634794)]\n",
      "[('IL', 'SAINT MARY', 89.929268, 37.914034), ('MO', 'SAINT MARY', 89.976989, 37.832481)]\n",
      "[('KY', 'FORT CAMPBELL', 87.459706, 36.653584), ('TN', 'FORT CAMPBELL', 87.558507, 36.599497)]\n"
     ]
    }
   ],
   "source": [
    "# Find which zipcodes have multiple entries\n",
    "for key in zip_data:\n",
    "    if len(zip_data[key]) > 1:\n",
    "        print(zip_data[key])"
   ]
  },
  {
   "cell_type": "markdown",
   "id": "629d4098-e59f-4057-88d4-5769172dd7be",
   "metadata": {},
   "source": [
    "## Exercise\n",
    "\n",
    "Look up a formula for computing the *great circle distance* between two GPS coordinates.  Write a function `distance` that takes two zipcodes and returns the distance between the two codes in miles. "
   ]
  },
  {
   "cell_type": "markdown",
   "id": "0504d2a1-3ed0-4310-ad7d-7af95bb32fc8",
   "metadata": {},
   "source": [
    "## Exercise\n",
    "\n",
    "Find the two zip codes that are furthest apart."
   ]
  },
  {
   "cell_type": "markdown",
   "id": "37ad79ce-baa1-48b0-bbe6-1f5eadf3e40e",
   "metadata": {},
   "source": [
    "## Exercise\n",
    "\n",
    "The file `contiguous-usa.dat` contains data in which US states border each other. Each line contains a pair such as `NY PA` to indicate that New York borders Pennsylvania.\n",
    "\n",
    "[http://10.40.6.14/~ehar/sure/data/contiguous-usa.dat](http://10.40.6.14/~ehar/sure/data/contiguous-usa.dat)\n",
    "\n",
    "1. What would a good data structure be to store that data?\n",
    "2. Write a function `load_states` that loads the file into that data structure\n",
    "3. Write a function `adjacent` that takes a state code and lists the states that are adjacent\n",
    "4. How could you modify the program so that you could use either the two character code or the state name. For example `NY` or `New york`.\n",
    "5. How about one step fruther and allow a common abbreviation such as Mass or Conn or any unambiguous prefix?"
   ]
  }
 ],
 "metadata": {
  "kernelspec": {
   "display_name": "Python 3",
   "language": "python",
   "name": "python3"
  },
  "language_info": {
   "codemirror_mode": {
    "name": "ipython",
    "version": 3
   },
   "file_extension": ".py",
   "mimetype": "text/x-python",
   "name": "python",
   "nbconvert_exporter": "python",
   "pygments_lexer": "ipython3",
   "version": "3.7.10"
  }
 },
 "nbformat": 4,
 "nbformat_minor": 5
}
