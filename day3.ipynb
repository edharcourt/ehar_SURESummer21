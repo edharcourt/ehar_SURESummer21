{
 "cells": [
  {
   "cell_type": "markdown",
   "id": "85393099-e8fa-459c-ad72-a3fb042101be",
   "metadata": {},
   "source": [
    "## NumPy"
   ]
  },
  {
   "cell_type": "code",
   "execution_count": 1,
   "id": "1e72de38-a51d-4a80-bafe-3d5fb5952b35",
   "metadata": {},
   "outputs": [],
   "source": [
    "lst = [1, 2, 'CS219', ['CS256', 'CS380'], 3.14159, print]"
   ]
  },
  {
   "cell_type": "code",
   "execution_count": 2,
   "id": "a1933304-569e-4be2-8819-c65ceadf0ed4",
   "metadata": {},
   "outputs": [
    {
     "data": {
      "text/plain": [
       "[1, 2, 'CS219', ['CS256', 'CS380'], 3.14159, <function print>]"
      ]
     },
     "execution_count": 2,
     "metadata": {},
     "output_type": "execute_result"
    }
   ],
   "source": [
    "lst"
   ]
  },
  {
   "cell_type": "code",
   "execution_count": 3,
   "id": "ab78e6cd-189f-433f-9130-2ef1f555349a",
   "metadata": {},
   "outputs": [],
   "source": [
    "import numpy as np"
   ]
  },
  {
   "cell_type": "code",
   "execution_count": 4,
   "id": "8de5df1a-0cb1-4c33-b163-de75301d925f",
   "metadata": {},
   "outputs": [
    {
     "name": "stdout",
     "output_type": "stream",
     "text": [
      "1.20.1\n"
     ]
    }
   ],
   "source": [
    "print(np.__version__)"
   ]
  },
  {
   "cell_type": "code",
   "execution_count": 6,
   "id": "7ea61a60-1cb7-4193-aa72-dde6ecc603f0",
   "metadata": {},
   "outputs": [
    {
     "name": "stdout",
     "output_type": "stream",
     "text": [
      "[ 0  1  2  3  4  5  6  7  8  9 10]\n",
      "<class 'numpy.ndarray'>\n"
     ]
    },
    {
     "data": {
      "text/plain": [
       "array([ 0,  1,  2,  3,  4,  5,  6,  7,  8,  9, 10])"
      ]
     },
     "execution_count": 6,
     "metadata": {},
     "output_type": "execute_result"
    }
   ],
   "source": [
    "arr = np.arange(11)\n",
    "print(arr)\n",
    "print(type(arr))\n",
    "arr"
   ]
  },
  {
   "cell_type": "code",
   "execution_count": 7,
   "id": "46cee2ed-4c58-42d1-966c-046b010b4d3f",
   "metadata": {},
   "outputs": [
    {
     "name": "stdout",
     "output_type": "stream",
     "text": [
      "11\n",
      "Wall time: 0 ns\n"
     ]
    }
   ],
   "source": [
    "%time print(11)"
   ]
  },
  {
   "cell_type": "code",
   "execution_count": 8,
   "id": "0bcb58c6-e469-40b8-ac44-e81101026728",
   "metadata": {},
   "outputs": [],
   "source": [
    "arr1 = np.arange(1_000_000)"
   ]
  },
  {
   "cell_type": "code",
   "execution_count": 9,
   "id": "c9488c31-0db6-4402-bc72-315a85349174",
   "metadata": {},
   "outputs": [],
   "source": [
    "arr2 = list(range(1_000_000))"
   ]
  },
  {
   "cell_type": "code",
   "execution_count": 10,
   "id": "667b7d81-b5f3-4cda-b52a-f98d20671c5b",
   "metadata": {},
   "outputs": [
    {
     "name": "stdout",
     "output_type": "stream",
     "text": [
      "Wall time: 140 ms\n"
     ]
    }
   ],
   "source": [
    "%time for i in range(len(arr2)): arr2[i] = arr2[i]*2"
   ]
  },
  {
   "cell_type": "code",
   "execution_count": 11,
   "id": "1ac6b0c7-7db2-4a9d-8f74-16fa33146f2d",
   "metadata": {},
   "outputs": [
    {
     "data": {
      "text/plain": [
       "array([ 0,  1,  2,  3,  4,  5,  6,  7,  8,  9, 10])"
      ]
     },
     "execution_count": 11,
     "metadata": {},
     "output_type": "execute_result"
    }
   ],
   "source": [
    "arr"
   ]
  },
  {
   "cell_type": "code",
   "execution_count": 12,
   "id": "f1e9d22f-9017-4601-9270-6e779d70dd37",
   "metadata": {},
   "outputs": [
    {
     "data": {
      "text/plain": [
       "array([ 0,  2,  4,  6,  8, 10, 12, 14, 16, 18, 20])"
      ]
     },
     "execution_count": 12,
     "metadata": {},
     "output_type": "execute_result"
    }
   ],
   "source": [
    "arr*2"
   ]
  },
  {
   "cell_type": "code",
   "execution_count": 13,
   "id": "3f0e342e-7263-4233-90bd-11222b24e824",
   "metadata": {},
   "outputs": [
    {
     "name": "stdout",
     "output_type": "stream",
     "text": [
      "Wall time: 2.99 ms\n"
     ]
    },
    {
     "data": {
      "text/plain": [
       "array([      0,       2,       4, ..., 1999994, 1999996, 1999998])"
      ]
     },
     "execution_count": 13,
     "metadata": {},
     "output_type": "execute_result"
    }
   ],
   "source": [
    "%time arr1*2"
   ]
  },
  {
   "cell_type": "markdown",
   "id": "77684354-afe2-47ef-97b8-f2b4d777c6f9",
   "metadata": {},
   "source": [
    "`double arr[1000000];`"
   ]
  },
  {
   "cell_type": "code",
   "execution_count": 14,
   "id": "6c85da76-6e95-4154-9fc3-a76c59b754c7",
   "metadata": {},
   "outputs": [
    {
     "data": {
      "text/plain": [
       "array([1.50980544e-311, 1.77863633e-322, 0.00000000e+000, 0.00000000e+000,\n",
       "       1.89146896e-307, 8.03419805e-042, 3.88601210e-033, 5.45502271e-090,\n",
       "       3.92575481e+179, 1.04718127e-142])"
      ]
     },
     "execution_count": 14,
     "metadata": {},
     "output_type": "execute_result"
    }
   ],
   "source": [
    "vec = np.empty(10)\n",
    "vec"
   ]
  },
  {
   "cell_type": "code",
   "execution_count": 15,
   "id": "f4be6673-d84a-4184-8fec-1c30eed71fe7",
   "metadata": {},
   "outputs": [
    {
     "data": {
      "text/plain": [
       "array([1, 2, 3, 4, 5])"
      ]
     },
     "execution_count": 15,
     "metadata": {},
     "output_type": "execute_result"
    }
   ],
   "source": [
    "arr4 = np.array([1,2,3,4,5])\n",
    "arr4"
   ]
  },
  {
   "cell_type": "code",
   "execution_count": 16,
   "id": "b3640030-651a-425c-8e14-c2c5229442ef",
   "metadata": {},
   "outputs": [
    {
     "data": {
      "text/plain": [
       "dtype('int32')"
      ]
     },
     "execution_count": 16,
     "metadata": {},
     "output_type": "execute_result"
    }
   ],
   "source": [
    "arr4.dtype"
   ]
  },
  {
   "cell_type": "code",
   "execution_count": 17,
   "id": "374698f2-c90e-49b3-8c83-927529e060ab",
   "metadata": {},
   "outputs": [
    {
     "data": {
      "text/plain": [
       "(5,)"
      ]
     },
     "execution_count": 17,
     "metadata": {},
     "output_type": "execute_result"
    }
   ],
   "source": [
    "arr4.shape"
   ]
  },
  {
   "cell_type": "code",
   "execution_count": 18,
   "id": "6a6ebf6c-bab2-4c13-830d-6fa5bb5f7659",
   "metadata": {},
   "outputs": [
    {
     "data": {
      "text/plain": [
       "array([11, 10,  9,  8,  7,  6,  5,  4,  3])"
      ]
     },
     "execution_count": 18,
     "metadata": {},
     "output_type": "execute_result"
    }
   ],
   "source": [
    "arr5 = np.arange(11, 2, -1)\n",
    "arr5"
   ]
  },
  {
   "cell_type": "code",
   "execution_count": 19,
   "id": "694ccf3c-6439-47ac-91dd-42e47e2ffbad",
   "metadata": {},
   "outputs": [],
   "source": [
    "arr5 = np.arange(stop=2, start=11, step=-1)"
   ]
  },
  {
   "cell_type": "code",
   "execution_count": 23,
   "id": "202aef3c-f6ae-47ed-ab60-135024018f81",
   "metadata": {},
   "outputs": [
    {
     "data": {
      "text/plain": [
       "array([-1, -1, -1, -1, -1, -1, -1, -1, -1, -1])"
      ]
     },
     "execution_count": 23,
     "metadata": {},
     "output_type": "execute_result"
    }
   ],
   "source": [
    "np.ones(10, dtype='int32')*-1"
   ]
  },
  {
   "cell_type": "code",
   "execution_count": 22,
   "id": "b7cca4d7-6001-44ca-921b-10273be98f5c",
   "metadata": {},
   "outputs": [
    {
     "data": {
      "text/plain": [
       "array([0., 0., 0., 0., 0., 0., 0., 0., 0., 0.])"
      ]
     },
     "execution_count": 22,
     "metadata": {},
     "output_type": "execute_result"
    }
   ],
   "source": [
    "np.zeros(10)"
   ]
  },
  {
   "cell_type": "code",
   "execution_count": 25,
   "id": "07c24faf-b378-4933-9f4d-a29ed5396075",
   "metadata": {},
   "outputs": [
    {
     "data": {
      "text/plain": [
       "(array([ 5.  ,  6.25,  7.5 ,  8.75, 10.  , 11.25, 12.5 , 13.75, 15.  ]), 1.25)"
      ]
     },
     "execution_count": 25,
     "metadata": {},
     "output_type": "execute_result"
    }
   ],
   "source": [
    "np.linspace(5,15,9, retstep=True)"
   ]
  },
  {
   "cell_type": "markdown",
   "id": "4b59850d-44e0-401c-ac57-a94c91315a14",
   "metadata": {},
   "source": [
    "# Exercise \n",
    "\n",
    "1. create an array of 18 random floating-point numbers between 0 and 1. \n",
    "\n",
    "2. Create an array of 18 random floating point numbers between -1 and 0\n",
    "\n",
    "3. Create an array with values 0, 0.1, 0.2, ... 4.9, 5.0\n"
   ]
  },
  {
   "cell_type": "code",
   "execution_count": 28,
   "id": "ab5716d2-0d04-4429-a65e-502356fd44a4",
   "metadata": {},
   "outputs": [
    {
     "data": {
      "text/plain": [
       "array([-0.72464779, -0.21934912, -0.97449229, -0.31296792, -0.98471627,\n",
       "       -0.37395187, -0.07038998, -0.21579599, -0.17478543, -0.35884918,\n",
       "       -0.23317771, -0.70899934, -0.06357504, -0.72651897, -0.24651055,\n",
       "       -0.8965752 , -0.4316464 , -0.12661463])"
      ]
     },
     "execution_count": 28,
     "metadata": {},
     "output_type": "execute_result"
    }
   ],
   "source": [
    "np.random.rand(18) - 1"
   ]
  },
  {
   "cell_type": "code",
   "execution_count": 29,
   "id": "db3ba8fe-f227-4b7b-b333-6cdb6f06154f",
   "metadata": {},
   "outputs": [
    {
     "data": {
      "text/plain": [
       "array([0. , 0.1, 0.2, 0.3, 0.4, 0.5, 0.6, 0.7, 0.8, 0.9, 1. , 1.1, 1.2,\n",
       "       1.3, 1.4, 1.5, 1.6, 1.7, 1.8, 1.9, 2. , 2.1, 2.2, 2.3, 2.4, 2.5,\n",
       "       2.6, 2.7, 2.8, 2.9, 3. , 3.1, 3.2, 3.3, 3.4, 3.5, 3.6, 3.7, 3.8,\n",
       "       3.9, 4. , 4.1, 4.2, 4.3, 4.4, 4.5, 4.6, 4.7, 4.8, 4.9, 5. ])"
      ]
     },
     "execution_count": 29,
     "metadata": {},
     "output_type": "execute_result"
    }
   ],
   "source": [
    "np.arange(0,5.1,.1)"
   ]
  },
  {
   "cell_type": "code",
   "execution_count": 30,
   "id": "273a0b2d-3e04-4c84-b42a-8b2e66752fe7",
   "metadata": {},
   "outputs": [],
   "source": [
    "mat = np.zeros(6)"
   ]
  },
  {
   "cell_type": "code",
   "execution_count": 31,
   "id": "294ad273-c105-48a2-b3ba-8b0ae1e6ab6b",
   "metadata": {},
   "outputs": [
    {
     "data": {
      "text/plain": [
       "array([0., 0., 0., 0., 0., 0.])"
      ]
     },
     "execution_count": 31,
     "metadata": {},
     "output_type": "execute_result"
    }
   ],
   "source": [
    "mat"
   ]
  },
  {
   "cell_type": "code",
   "execution_count": 32,
   "id": "57947afa-ab8a-42de-b3fe-8e5651c1af35",
   "metadata": {},
   "outputs": [],
   "source": [
    "mat.shape = (2,3)"
   ]
  },
  {
   "cell_type": "code",
   "execution_count": 33,
   "id": "43e17860-e306-4ae5-947a-697fc68762f9",
   "metadata": {},
   "outputs": [
    {
     "data": {
      "text/plain": [
       "array([[0., 0., 0.],\n",
       "       [0., 0., 0.]])"
      ]
     },
     "execution_count": 33,
     "metadata": {},
     "output_type": "execute_result"
    }
   ],
   "source": [
    "mat"
   ]
  },
  {
   "cell_type": "code",
   "execution_count": 34,
   "id": "f54d4a7d-6760-43fd-9c1c-1282aacfb747",
   "metadata": {},
   "outputs": [
    {
     "data": {
      "text/plain": [
       "array([[0., 0., 0.],\n",
       "       [0., 0., 0.]])"
      ]
     },
     "execution_count": 34,
     "metadata": {},
     "output_type": "execute_result"
    }
   ],
   "source": [
    "mat = np.zeros((2,3))\n",
    "mat"
   ]
  },
  {
   "cell_type": "code",
   "execution_count": 35,
   "id": "26ef1d91-1b99-401e-8645-c618b10cbeb3",
   "metadata": {},
   "outputs": [
    {
     "data": {
      "text/plain": [
       "array([ 0,  1,  2,  3,  4,  5,  6,  7,  8,  9, 10])"
      ]
     },
     "execution_count": 35,
     "metadata": {},
     "output_type": "execute_result"
    }
   ],
   "source": [
    "arr"
   ]
  },
  {
   "cell_type": "code",
   "execution_count": 37,
   "id": "98bf6b07-e98a-4c69-9b75-58bf73e84c39",
   "metadata": {},
   "outputs": [
    {
     "data": {
      "text/plain": [
       "385"
      ]
     },
     "execution_count": 37,
     "metadata": {},
     "output_type": "execute_result"
    }
   ],
   "source": [
    "sum(arr*arr)"
   ]
  },
  {
   "cell_type": "code",
   "execution_count": 38,
   "id": "6b30fdf3-8f83-4c71-8a31-8680cf2a9679",
   "metadata": {},
   "outputs": [
    {
     "data": {
      "text/plain": [
       "385"
      ]
     },
     "execution_count": 38,
     "metadata": {},
     "output_type": "execute_result"
    }
   ],
   "source": [
    "arr.dot(arr)"
   ]
  },
  {
   "cell_type": "code",
   "execution_count": 39,
   "id": "1232fa0e-5d29-4d25-a430-7b1522630a70",
   "metadata": {},
   "outputs": [
    {
     "data": {
      "text/plain": [
       "array([[ 0,  1,  2,  3,  4],\n",
       "       [ 5,  6,  7,  8,  9],\n",
       "       [10, 11, 12, 13, 14],\n",
       "       [15, 16, 17, 18, 19],\n",
       "       [20, 21, 22, 23, 24],\n",
       "       [25, 26, 27, 28, 29],\n",
       "       [30, 31, 32, 33, 34]])"
      ]
     },
     "execution_count": 39,
     "metadata": {},
     "output_type": "execute_result"
    }
   ],
   "source": [
    "mat = np.arange(35).reshape((7,5))\n",
    "mat"
   ]
  },
  {
   "cell_type": "code",
   "execution_count": 50,
   "id": "66991948-abb4-4dd7-b808-a371eab6ce4b",
   "metadata": {},
   "outputs": [
    {
     "data": {
      "text/plain": [
       "array([[12, 13],\n",
       "       [17, 18],\n",
       "       [22, 23]])"
      ]
     },
     "execution_count": 50,
     "metadata": {},
     "output_type": "execute_result"
    }
   ],
   "source": [
    "mat[2:5,2:4]"
   ]
  },
  {
   "cell_type": "code",
   "execution_count": 41,
   "id": "c695f7dd-3b29-4598-88c4-c58fc8360c8c",
   "metadata": {},
   "outputs": [
    {
     "data": {
      "text/plain": [
       "0"
      ]
     },
     "execution_count": 41,
     "metadata": {},
     "output_type": "execute_result"
    }
   ],
   "source": [
    "mat[(0,0)]"
   ]
  },
  {
   "cell_type": "code",
   "execution_count": 42,
   "id": "6717b283-eccd-46ac-88f9-54eed145e713",
   "metadata": {},
   "outputs": [
    {
     "data": {
      "text/plain": [
       "0"
      ]
     },
     "execution_count": 42,
     "metadata": {},
     "output_type": "execute_result"
    }
   ],
   "source": [
    "mat[0][0]"
   ]
  },
  {
   "cell_type": "code",
   "execution_count": 43,
   "id": "ea827a3d-5a52-4b35-a514-b685e06de075",
   "metadata": {},
   "outputs": [
    {
     "data": {
      "text/plain": [
       "array([15, 16, 17, 18, 19])"
      ]
     },
     "execution_count": 43,
     "metadata": {},
     "output_type": "execute_result"
    }
   ],
   "source": [
    "mat[3]"
   ]
  },
  {
   "cell_type": "code",
   "execution_count": 44,
   "id": "d32a4bba-59a7-40a1-8ecf-b1aca106c7da",
   "metadata": {},
   "outputs": [
    {
     "data": {
      "text/plain": [
       "array([[15, 16, 17, 18, 19],\n",
       "       [20, 21, 22, 23, 24]])"
      ]
     },
     "execution_count": 44,
     "metadata": {},
     "output_type": "execute_result"
    }
   ],
   "source": [
    "mat[3:5]"
   ]
  },
  {
   "cell_type": "markdown",
   "id": "70d2c1b2-86d3-4c59-a93b-8eb44259bd50",
   "metadata": {},
   "source": [
    "slice notation\n",
    "\n",
    "array[start:stop,start:stop]"
   ]
  },
  {
   "cell_type": "code",
   "execution_count": 45,
   "id": "017cbfb3-5ecd-49ce-a57c-7d0601402a93",
   "metadata": {},
   "outputs": [
    {
     "data": {
      "text/plain": [
       "array([[20, 21, 22, 23, 24],\n",
       "       [25, 26, 27, 28, 29],\n",
       "       [30, 31, 32, 33, 34]])"
      ]
     },
     "execution_count": 45,
     "metadata": {},
     "output_type": "execute_result"
    }
   ],
   "source": [
    "mat[4:]"
   ]
  },
  {
   "cell_type": "code",
   "execution_count": 47,
   "id": "a70d017b-9951-49f4-abdc-a81bd222f575",
   "metadata": {},
   "outputs": [
    {
     "data": {
      "text/plain": [
       "array([ 3,  8, 13, 18, 23, 28, 33])"
      ]
     },
     "execution_count": 47,
     "metadata": {},
     "output_type": "execute_result"
    }
   ],
   "source": [
    "mat[:,3]"
   ]
  },
  {
   "cell_type": "code",
   "execution_count": 51,
   "id": "3d4d6197-1f5d-438a-8946-02793aaf9234",
   "metadata": {},
   "outputs": [
    {
     "data": {
      "text/plain": [
       "array([ 8,  9, 10, 11, 12, 13, 14, 15, 16, 17, 18, 19, 20, 21, 22, 23, 24,\n",
       "       25, 26, 27, 28, 29, 30, 31, 32, 33, 34])"
      ]
     },
     "execution_count": 51,
     "metadata": {},
     "output_type": "execute_result"
    }
   ],
   "source": [
    "mat[mat > 7]"
   ]
  },
  {
   "cell_type": "code",
   "execution_count": 52,
   "id": "c86209a5-5da6-4837-8b03-af84b5a40904",
   "metadata": {},
   "outputs": [
    {
     "data": {
      "text/plain": [
       "array([[[ 0,  1,  2],\n",
       "        [ 3,  4,  5],\n",
       "        [ 6,  7,  8]],\n",
       "\n",
       "       [[ 9, 10, 11],\n",
       "        [12, 13, 14],\n",
       "        [15, 16, 17]],\n",
       "\n",
       "       [[18, 19, 20],\n",
       "        [21, 22, 23],\n",
       "        [24, 25, 26]]])"
      ]
     },
     "execution_count": 52,
     "metadata": {},
     "output_type": "execute_result"
    }
   ],
   "source": [
    "mat3d = np.arange(27).reshape((3,3,3))\n",
    "mat3d"
   ]
  },
  {
   "cell_type": "markdown",
   "id": "d996c562-014a-4948-a09d-b266934dc9ea",
   "metadata": {},
   "source": [
    "# matplotlib"
   ]
  },
  {
   "cell_type": "code",
   "execution_count": 54,
   "id": "c3e1d95b-648f-425c-a29a-62e1af3d2b7c",
   "metadata": {},
   "outputs": [],
   "source": [
    "import matplotlib.pyplot as plt\n",
    "import math"
   ]
  },
  {
   "cell_type": "code",
   "execution_count": 63,
   "id": "8507d959-3937-41c3-90db-3db9ea75dfae",
   "metadata": {},
   "outputs": [
    {
     "data": {
      "image/png": "[encoded data removed]",
      "text/plain": [
       "<Figure size 432x288 with 2 Axes>"
      ]
     },
     "metadata": {
      "needs_background": "light"
     },
     "output_type": "display_data"
    }
   ],
   "source": [
    "fig = plt.figure(\"My first figure\")\n",
    "sp1 = fig.add_subplot(1,2,1)\n",
    "sqrts = np.arange(20)**.5\n",
    "sp1.plot(sqrts, label=\"$\\sqrt{n}$\")\n",
    "plt.legend()\n",
    "sqrs = np.arange(20)**2\n",
    "sp2 = fig.add_subplot(1,2,2)\n",
    "sp2.plot(sqrs, label = \"$n^2$\")\n",
    "plt.legend()\n",
    "plt.show()\n",
    "\n",
    "\n"
   ]
  },
  {
   "cell_type": "code",
   "execution_count": 70,
   "id": "f6254332-4439-4cf4-8da7-61b764291fd8",
   "metadata": {},
   "outputs": [
    {
     "data": {
      "image/png": "[encoded data removed]",
      "text/plain": [
       "<Figure size 1152x576 with 1 Axes>"
      ]
     },
     "metadata": {
      "needs_background": "light"
     },
     "output_type": "display_data"
    }
   ],
   "source": [
    "import random\n",
    "t = 0\n",
    "lst = []\n",
    "fig1 = plt.figure(\"A Random Walk\", figsize=(16,8))\n",
    "sp11 = fig1.add_subplot(1,1,1)\n",
    "for i in range(300000):\n",
    "    if random.random() < 0.5:\n",
    "        t += 1\n",
    "    else:\n",
    "        t -= 1\n",
    "    lst.append(t)\n",
    "\n",
    "sp11.plot(lst, \"--\")\n",
    "plt.show()"
   ]
  },
  {
   "cell_type": "code",
   "execution_count": 83,
   "id": "bca75fa7-723a-4dda-9741-874426ffa042",
   "metadata": {},
   "outputs": [
    {
     "data": {
      "image/png": "[encoded data removed]",
      "text/plain": [
       "<Figure size 432x288 with 1 Axes>"
      ]
     },
     "metadata": {
      "needs_background": "light"
     },
     "output_type": "display_data"
    }
   ],
   "source": [
    "plt.plot(np.random.choice([1,-1], 30000).cumsum(), ',',\n",
    "        color='k')\n",
    "plt.show()"
   ]
  },
  {
   "cell_type": "code",
   "execution_count": 100,
   "id": "a39fe8f7-0413-4e09-b84c-01e115c4cb89",
   "metadata": {},
   "outputs": [],
   "source": [
    "heights = np.loadtxt('male-heights.txt')"
   ]
  },
  {
   "cell_type": "code",
   "execution_count": 101,
   "id": "2bbc614b-6af7-40d5-8390-378f7d394380",
   "metadata": {},
   "outputs": [],
   "source": [
    "heights.shape = 1000"
   ]
  },
  {
   "cell_type": "code",
   "execution_count": 102,
   "id": "87a7afe0-79aa-48a1-8aff-1089de22f191",
   "metadata": {},
   "outputs": [
    {
     "data": {
      "text/plain": [
       "1000"
      ]
     },
     "execution_count": 102,
     "metadata": {},
     "output_type": "execute_result"
    }
   ],
   "source": [
    "len(heights)"
   ]
  },
  {
   "cell_type": "code",
   "execution_count": 103,
   "id": "c4880d7c-b05c-4575-846e-3be7fccf83ff",
   "metadata": {},
   "outputs": [],
   "source": [
    "mean = np.mean(heights)"
   ]
  },
  {
   "cell_type": "code",
   "execution_count": 104,
   "id": "bdfca29c-4945-472a-b198-a1b5985eb3c1",
   "metadata": {},
   "outputs": [
    {
     "data": {
      "text/plain": [
       "178.7945"
      ]
     },
     "execution_count": 104,
     "metadata": {},
     "output_type": "execute_result"
    }
   ],
   "source": [
    "heights.mean()"
   ]
  },
  {
   "cell_type": "code",
   "execution_count": 105,
   "id": "d6af5d1e-26a8-487d-ae03-0b5fe7ed763e",
   "metadata": {},
   "outputs": [],
   "source": [
    "stdev = heights.std()"
   ]
  },
  {
   "cell_type": "code",
   "execution_count": 106,
   "id": "f3d91235-1234-4e3b-a979-0b6173f421cd",
   "metadata": {},
   "outputs": [
    {
     "data": {
      "text/plain": [
       "10.82647956401341"
      ]
     },
     "execution_count": 106,
     "metadata": {},
     "output_type": "execute_result"
    }
   ],
   "source": [
    "stdev"
   ]
  },
  {
   "cell_type": "code",
   "execution_count": 111,
   "id": "126e179d-a255-4232-b7c9-541c1da457e2",
   "metadata": {},
   "outputs": [
    {
     "data": {
      "image/png": "[encoded data removed]",
      "text/plain": [
       "<Figure size 432x288 with 1 Axes>"
      ]
     },
     "metadata": {
      "needs_background": "light"
     },
     "output_type": "display_data"
    }
   ],
   "source": [
    "# plot a histogram\n",
    "# data from scipython.com\n",
    "plt.hist(heights, 50, facecolor='g', edgecolor='k')\n",
    "plt.title(\"Histogram of Male Heights\")\n",
    "plt.xlabel(\"Heights in cm\")\n",
    "plt.text(140,60, \"$\\\\mu={:.2f}$\".format(mean))\n",
    "plt.text(140,55, \"$\\\\sigma={:.2f}$\".format(stdev))\n",
    "plt.show()"
   ]
  },
  {
   "cell_type": "code",
   "execution_count": null,
   "id": "af95d90d-398f-4680-bd88-0184a1b129cb",
   "metadata": {},
   "outputs": [],
   "source": []
  }
 ],
 "metadata": {
  "kernelspec": {
   "display_name": "Python 3",
   "language": "python",
   "name": "python3"
  },
  "language_info": {
   "codemirror_mode": {
    "name": "ipython",
    "version": 3
   },
   "file_extension": ".py",
   "mimetype": "text/x-python",
   "name": "python",
   "nbconvert_exporter": "python",
   "pygments_lexer": "ipython3",
   "version": "3.7.10"
  }
 },
 "nbformat": 4,
 "nbformat_minor": 5
}
