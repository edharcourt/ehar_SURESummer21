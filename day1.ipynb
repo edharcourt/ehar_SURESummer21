{
 "cells": [
  {
   "cell_type": "markdown",
   "id": "0c834518-0097-4e4b-a34b-713044953561",
   "metadata": {},
   "source": [
    "# Day 1 Summer 21"
   ]
  },
  {
   "cell_type": "markdown",
   "id": "492df749-bce4-4d94-9c08-a40a182d7c93",
   "metadata": {},
   "source": [
    "## We are playing with Jupyter"
   ]
  },
  {
   "cell_type": "markdown",
   "id": "c0f60a03-3fa5-4331-9df7-314cffee30ad",
   "metadata": {},
   "source": [
    "### Python"
   ]
  },
  {
   "cell_type": "code",
   "execution_count": 3,
   "id": "c584e888-acd7-4408-9b2e-43ee2ea5ed8f",
   "metadata": {},
   "outputs": [
    {
     "name": "stdout",
     "output_type": "stream",
     "text": [
      "hello World\n"
     ]
    }
   ],
   "source": [
    "print(\"hello World\")"
   ]
  },
  {
   "cell_type": "markdown",
   "id": "0edbd73f-f902-4416-9005-2d6cbd51c059",
   "metadata": {},
   "source": [
    "This is a numbered list \n",
    "\n",
    "1. Grace\n",
    "2. Kai.\n",
    "3. Cam\n",
    "4. Jonah\n",
    "5. Kevin\n",
    "6. Olivia"
   ]
  },
  {
   "cell_type": "markdown",
   "id": "2d659437-d3c4-40e1-a959-87730d390c0e",
   "metadata": {},
   "source": [
    "This is a bulleted list\n",
    "* Python\n",
    "* Markdown\n",
    "* Jupyter\n",
    "* Git"
   ]
  },
  {
   "cell_type": "markdown",
   "id": "e5489512-6b32-4ef5-8816-1f9a761644f3",
   "metadata": {},
   "source": [
    "This is a link [Jupyter](https://jupyter.org)"
   ]
  },
  {
   "cell_type": "markdown",
   "id": "f63fe114-3523-47f1-bdc0-fa295ca73678",
   "metadata": {},
   "source": [
    "This is also cool $f(x) = x^2$"
   ]
  },
  {
   "cell_type": "markdown",
   "id": "fca7ca2b-6c1c-42e9-a6e4-10aa9d5401b7",
   "metadata": {},
   "source": [
    "[Markdown Cheatsheet](https://guides.github.com/pdfs/markdown-cheatsheet-online.pdf)"
   ]
  },
  {
   "cell_type": "markdown",
   "id": "18031eab-c80c-4c68-8217-4bd97c4a370f",
   "metadata": {},
   "source": [
    "This is **bold** "
   ]
  },
  {
   "cell_type": "markdown",
   "id": "1728cbe1-2959-462d-88f5-a8a630461a01",
   "metadata": {},
   "source": [
    "This is *italics*"
   ]
  },
  {
   "cell_type": "markdown",
   "id": "4376061f-eecb-4d45-a4c8-2e9bb9da7aed",
   "metadata": {},
   "source": [
    "This is **_bold italics_**"
   ]
  },
  {
   "cell_type": "code",
   "execution_count": null,
   "id": "b85357ff-570f-40d6-a921-6dcde7d51001",
   "metadata": {},
   "outputs": [],
   "source": []
  }
 ],
 "metadata": {
  "kernelspec": {
   "display_name": "Python 3",
   "language": "python",
   "name": "python3"
  },
  "language_info": {
   "codemirror_mode": {
    "name": "ipython",
    "version": 3
   },
   "file_extension": ".py",
   "mimetype": "text/x-python",
   "name": "python",
   "nbconvert_exporter": "python",
   "pygments_lexer": "ipython3",
   "version": "3.7.10"
  }
 },
 "nbformat": 4,
 "nbformat_minor": 5
}
