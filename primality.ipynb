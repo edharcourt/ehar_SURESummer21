{
 "cells": [
  {
   "cell_type": "markdown",
   "id": "f108776d-67b6-4647-918f-009bb7d0c696",
   "metadata": {},
   "source": [
    "# Day 9, Tuesday June 2 \n",
    "## A Computationally Intensive Program (maybe)"
   ]
  },
  {
   "cell_type": "code",
   "execution_count": 6,
   "id": "ae9ab89f-483a-453c-84e7-05eed0fd1aa2",
   "metadata": {},
   "outputs": [
    {
     "data": {
      "text/plain": [
       "False"
      ]
     },
     "execution_count": 6,
     "metadata": {},
     "output_type": "execute_result"
    }
   ],
   "source": [
    "from primality import probablyPrime\n",
    "probablyPrime(944871836856449473)  # 961_748_941 * 982_451_653 = 944871836856449473"
   ]
  },
  {
   "cell_type": "code",
   "execution_count": 7,
   "id": "4a87ea0c-942b-4ddf-8149-e86ab2150a5f",
   "metadata": {},
   "outputs": [
    {
     "data": {
      "text/plain": [
       "True"
      ]
     },
     "execution_count": 7,
     "metadata": {},
     "output_type": "execute_result"
    }
   ],
   "source": [
    "probablyPrime(982_451_653)"
   ]
  },
  {
   "cell_type": "code",
   "execution_count": 8,
   "id": "0c6b9a5e-880d-48b0-be54-1d03d95fb534",
   "metadata": {},
   "outputs": [
    {
     "data": {
      "text/plain": [
       "True"
      ]
     },
     "execution_count": 8,
     "metadata": {},
     "output_type": "execute_result"
    }
   ],
   "source": [
    "probablyPrime(242174138627988501139683269297593413486138960823000334312762710677768364664496943739293038368620543772919548211251435187010611068484201464050077154617218710988519474673620149046797553936311953403540501657184328526977936443912627123090618488541132707561339560165472991366841151622772498740366441879786804599770427605640452029381990363659931945285568381711317698740109796564462424929801445349620576324698332383415860000541237450006701649659909779218338098298384738771891922975444185659070322134279771520480383456311169414840240480739079120657652058551252956789120661912153537717122065655085474870725174699575542408566971252777710800424464877223174249497953676252056902218635835848295884422365648117833468729491211062700742276959888446850443752525223631242132089611915465048269186124526386882494025744327220356306350378192543753805251589370725468414440290488665200499313026808974994478419610716084742529276286109154311006924053130602763621494359241962223440363640179901796455865766859360827412935865377836356780136252568540317180716744402597771332575958094872117212466342468106667702531933713587489068826228050772610925121097783679270219078161738356315344008127326316159390104219360687071502040712987563951996998075240365416323927592221)"
   ]
  },
  {
   "cell_type": "code",
   "execution_count": 4,
   "id": "0a9f4e78-c897-4675-abd9-67e72813ad2e",
   "metadata": {},
   "outputs": [
    {
     "data": {
      "text/plain": [
       "108159357897539476563247693251565743152"
      ]
     },
     "execution_count": 4,
     "metadata": {},
     "output_type": "execute_result"
    }
   ],
   "source": [
    "import random\n",
    "random.getrandbits(128)"
   ]
  },
  {
   "cell_type": "code",
   "execution_count": 5,
   "id": "f0b4d8d6-8ee1-4c9a-a1c4-5ef517138f49",
   "metadata": {},
   "outputs": [
    {
     "name": "stdout",
     "output_type": "stream",
     "text": [
      "24989151184407324829884869829238126908853860985653439698759644875308815340229\n"
     ]
    }
   ],
   "source": [
    "while True:\n",
    "    x = random.getrandbits(256)\n",
    "    if probablyPrime(x):\n",
    "        print(x)\n",
    "        break"
   ]
  },
  {
   "cell_type": "code",
   "execution_count": null,
   "id": "1fbd293d-9fd6-4fc1-84b7-6eaeabd7581f",
   "metadata": {},
   "outputs": [],
   "source": []
  }
 ],
 "metadata": {
  "kernelspec": {
   "display_name": "Python 3",
   "language": "python",
   "name": "python3"
  },
  "language_info": {
   "codemirror_mode": {
    "name": "ipython",
    "version": 3
   },
   "file_extension": ".py",
   "mimetype": "text/x-python",
   "name": "python",
   "nbconvert_exporter": "python",
   "pygments_lexer": "ipython3",
   "version": "3.8.8"
  }
 },
 "nbformat": 4,
 "nbformat_minor": 5
}
