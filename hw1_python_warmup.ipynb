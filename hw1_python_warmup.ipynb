{
 "cells": [
  {
   "cell_type": "markdown",
   "id": "2281b7c0-416f-40f9-97ad-77dda3e10c86",
   "metadata": {},
   "source": [
    "# HW 1 - Python Warmup \n",
    "\n",
    "Make a copy of this notebook file in your own repo. Put all answers in this notebook. Make sure code is well commented.\n",
    "\n",
    "Due Tuesday May 11 at the start of class. Make sure the file `hw1_python_warmup.ipynb` is pushed to your personal repo."
   ]
  },
  {
   "cell_type": "code",
   "execution_count": 1,
   "id": "82eb4473-efcf-4707-a66b-02297dc97ca9",
   "metadata": {},
   "outputs": [],
   "source": [
    "# Build a dictionary of zipcode information. \n",
    "# This is the code we wrte in class on 5/6/21\n",
    "# under the day2.ipynb notebook.\n",
    "import requests\n",
    "\n",
    "from typing import List, Tuple, Dict\n",
    "\n",
    "ZipEntry = Tuple[str, str, float, float] \n",
    "\n",
    "def load_zips() -> Dict[str,List[ZipEntry]]:\n",
    "    \n",
    "    url_base = \"http://10.40.6.14/~ehar/sure/data/\"\n",
    "    file = 'zips.csv'\n",
    "    url = url_base + file\n",
    "\n",
    "    try:\n",
    "        r = requests.get(url)  # What could go wrong????\n",
    "    except ConnectionError as e:\n",
    "        print(\"Coult not get URL{0}\".format(url))\n",
    "    else:    \n",
    "        zip_data = dict()\n",
    "\n",
    "        for line in r.text.split('\\n'):\n",
    "            if len(line.strip()) == 0:\n",
    "                continue\n",
    "            t     = line.split(',')\n",
    "            code  = t[1][1:-1]\n",
    "            state = t[2][1:-1]\n",
    "            city  = t[3][1:-1]\n",
    "            lon   = float(t[4])\n",
    "            lat   = float(t[5])\n",
    "\n",
    "            if code not in zip_data:\n",
    "                zip_data[code] = []\n",
    "\n",
    "            zip_data[code].append((state, city, lon, lat))\n",
    "        \n",
    "        return zip_data\n",
    "    \n"
   ]
  },
  {
   "cell_type": "code",
   "execution_count": 2,
   "id": "ee3c3d28-11ea-47c7-9619-ee021b5f7725",
   "metadata": {},
   "outputs": [],
   "source": [
    "zip_data = load_zips()"
   ]
  },
  {
   "cell_type": "code",
   "execution_count": 3,
   "id": "e2ae8236-193a-4c22-b258-d2d919700ae5",
   "metadata": {},
   "outputs": [
    {
     "data": {
      "text/plain": [
       "[('NY', 'CANTON', 75.162792, 44.592442)]"
      ]
     },
     "execution_count": 3,
     "metadata": {},
     "output_type": "execute_result"
    }
   ],
   "source": [
    "zip_data['13617'] # make sure it loaded correctly."
   ]
  },
  {
   "cell_type": "markdown",
   "id": "728bf894-5a2a-4111-8e77-3fcf42002681",
   "metadata": {},
   "source": [
    "## Exercise 1\n",
    "\n",
    "Look up a formula for computing the *great circle distance* between two GPS coordinates.  Write a function `distance` that takes two zipcodes and returns the distance between the two zip codes in miles.  Test your function of some zip codes that make sense."
   ]
  },
  {
   "cell_type": "markdown",
   "id": "8fbef616-d943-4e25-9e12-377532906940",
   "metadata": {},
   "source": [
    "## Exercise 2\n",
    "\n",
    "Write a function that returns the two zipcodes that are furthest apart."
   ]
  },
  {
   "cell_type": "markdown",
   "id": "03c977b9-e60c-4091-97db-9bb44dae55a3",
   "metadata": {},
   "source": [
    "## Exercise 3\n",
    "\n",
    "The file `contiguous-usa.dat` contains data of which US states border each other. Each line contains a pair such as `NY PA` to indicate that New York borders Pennsylvania.\n",
    "\n",
    "[http://10.40.6.14/~ehar/sure/data/contiguous-usa.dat](http://10.40.6.14/~ehar/sure/data/contiguous-usa.dat)\n",
    "\n",
    "1. What would a good data structure be to store that data? Hint: it starts with a 'd' and ends with 'ictionary'.\n",
    "\n",
    "2. Write a function `load_states` that loads the file into that data structure. \n",
    "\n",
    "3. Write a function `adjacent` that takes a state code and lists the states that are adjacent to it.\n",
    "\n",
    "4. Modify the program so that you could use either the two character code or the state name. For example `NY` or `New york`. Hint: Use another dictionary.\n",
    "\n",
    "5. Go one step further and allow a common abbreviation such as Mass or Conn or any unambiguous prefix?  Hint: Strings in Python have a `startswith` method."
   ]
  },
  {
   "cell_type": "code",
   "execution_count": null,
   "id": "ab2b0cde-7bdb-4681-8349-938b074a917a",
   "metadata": {},
   "outputs": [],
   "source": []
  }
 ],
 "metadata": {
  "kernelspec": {
   "display_name": "Python 3",
   "language": "python",
   "name": "python3"
  },
  "language_info": {
   "codemirror_mode": {
    "name": "ipython",
    "version": 3
   },
   "file_extension": ".py",
   "mimetype": "text/x-python",
   "name": "python",
   "nbconvert_exporter": "python",
   "pygments_lexer": "ipython3",
   "version": "3.8.8"
  }
 },
 "nbformat": 4,
 "nbformat_minor": 5
}
