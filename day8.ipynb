{
 "cells": [
  {
   "cell_type": "markdown",
   "metadata": {},
   "source": [
    "# Neural Networks in Tensorflow\n",
    "\n",
    "Today we'll use <a href=\"https://www.tensorflow.org/\">tensorflow</a> to create a neural network that classifies <a href=\"https://keras.io/api/datasets/fashion_mnist/\">images of clothing</a>."
   ]
  },
  {
   "cell_type": "code",
   "execution_count": 2,
   "metadata": {},
   "outputs": [],
   "source": [
    "from tensorflow import keras\n",
    "(data, target), (test_data, test_target) = keras.datasets.fashion_mnist.load_data()"
   ]
  },
  {
   "cell_type": "markdown",
   "metadata": {},
   "source": [
    "Let's check out the size of this dataset."
   ]
  },
  {
   "cell_type": "code",
   "execution_count": 3,
   "metadata": {},
   "outputs": [
    {
     "name": "stdout",
     "output_type": "stream",
     "text": [
      "(60000, 28, 28)\n",
      "(10000, 28, 28)\n"
     ]
    }
   ],
   "source": [
    "print(data.shape)\n",
    "print(test_data.shape)"
   ]
  },
  {
   "cell_type": "markdown",
   "metadata": {},
   "source": [
    "We can look at the clothing images if we want."
   ]
  },
  {
   "cell_type": "code",
   "execution_count": 4,
   "metadata": {},
   "outputs": [
    {
     "data": {
      "image/png": "[encoded data removed]",
      "text/plain": [
       "<Figure size 432x288 with 1 Axes>"
      ]
     },
     "metadata": {
      "needs_background": "light"
     },
     "output_type": "display_data"
    }
   ],
   "source": [
    "import matplotlib.pyplot as plt\n",
    "plt.imshow(data[0], cmap=\"gray\")\n",
    "plt.show()"
   ]
  },
  {
   "cell_type": "markdown",
   "metadata": {},
   "source": [
    "Let's also check the label distribution."
   ]
  },
  {
   "cell_type": "code",
   "execution_count": 7,
   "metadata": {},
   "outputs": [
    {
     "name": "stdout",
     "output_type": "stream",
     "text": [
      "0 6000\n",
      "1 6000\n",
      "2 6000\n",
      "3 6000\n",
      "4 6000\n",
      "5 6000\n",
      "6 6000\n",
      "7 6000\n",
      "8 6000\n",
      "9 6000\n"
     ]
    }
   ],
   "source": [
    "import numpy as np\n",
    "labels, counts = np.unique(target, return_counts=True)\n",
    "for (label, count) in zip(labels, counts):\n",
    "    print(label, count)"
   ]
  },
  {
   "cell_type": "markdown",
   "metadata": {},
   "source": [
    "Let's set up a neural network to work with this dataset."
   ]
  },
  {
   "cell_type": "code",
   "execution_count": 7,
   "metadata": {},
   "outputs": [],
   "source": [
    "network = keras.models.Sequential([\n",
    "    keras.layers.Flatten(input_shape=(28, 28)),\n",
    "    keras.layers.Dense(64, activation=\"relu\"),\n",
    "    keras.layers.Dense(10, activation=\"softmax\")\n",
    "])"
   ]
  },
  {
   "cell_type": "markdown",
   "metadata": {},
   "source": [
    "We'll need to set aside some of the training set to use for validation."
   ]
  },
  {
   "cell_type": "code",
   "execution_count": 5,
   "metadata": {},
   "outputs": [],
   "source": [
    "from sklearn.model_selection import train_test_split\n",
    "train_data, valid_data, train_target, valid_target = train_test_split(data, target, test_size=0.1)"
   ]
  },
  {
   "cell_type": "markdown",
   "metadata": {},
   "source": [
    "Also we'll need to scale the pixels from 0-255 down to 0-1."
   ]
  },
  {
   "cell_type": "code",
   "execution_count": 6,
   "metadata": {},
   "outputs": [],
   "source": [
    "train_data = train_data / 255\n",
    "valid_data = valid_data / 255\n",
    "test_data = test_data / 255"
   ]
  },
  {
   "cell_type": "markdown",
   "metadata": {},
   "source": [
    "Now we can train the network."
   ]
  },
  {
   "cell_type": "code",
   "execution_count": 9,
   "metadata": {},
   "outputs": [
    {
     "name": "stdout",
     "output_type": "stream",
     "text": [
      "Epoch 1/20\n",
      "1688/1688 [==============================] - 2s 734us/step - loss: 0.5397 - accuracy: 0.8120 - val_loss: 0.4475 - val_accuracy: 0.8398\n",
      "Epoch 2/20\n",
      "1688/1688 [==============================] - 1s 694us/step - loss: 0.4032 - accuracy: 0.8562 - val_loss: 0.4159 - val_accuracy: 0.8460\n",
      "Epoch 3/20\n",
      "1688/1688 [==============================] - 1s 701us/step - loss: 0.3647 - accuracy: 0.8690 - val_loss: 0.3829 - val_accuracy: 0.8575\n",
      "Epoch 4/20\n",
      "1688/1688 [==============================] - 1s 707us/step - loss: 0.3378 - accuracy: 0.8764 - val_loss: 0.3347 - val_accuracy: 0.8802\n",
      "Epoch 5/20\n",
      "1688/1688 [==============================] - 1s 713us/step - loss: 0.3211 - accuracy: 0.8825 - val_loss: 0.3503 - val_accuracy: 0.8762\n",
      "Epoch 6/20\n",
      "1688/1688 [==============================] - 1s 707us/step - loss: 0.3066 - accuracy: 0.8878 - val_loss: 0.3216 - val_accuracy: 0.8870\n",
      "Epoch 7/20\n",
      "1688/1688 [==============================] - 1s 712us/step - loss: 0.2926 - accuracy: 0.8922 - val_loss: 0.3166 - val_accuracy: 0.8912\n",
      "Epoch 8/20\n",
      "1688/1688 [==============================] - 1s 716us/step - loss: 0.2825 - accuracy: 0.8962 - val_loss: 0.3005 - val_accuracy: 0.8930\n",
      "Epoch 9/20\n",
      "1688/1688 [==============================] - 1s 699us/step - loss: 0.2735 - accuracy: 0.8993 - val_loss: 0.3283 - val_accuracy: 0.8815\n",
      "Epoch 10/20\n",
      "1688/1688 [==============================] - 1s 696us/step - loss: 0.2640 - accuracy: 0.9011 - val_loss: 0.3205 - val_accuracy: 0.8887\n",
      "Epoch 11/20\n",
      "1688/1688 [==============================] - 1s 706us/step - loss: 0.2564 - accuracy: 0.9044 - val_loss: 0.3093 - val_accuracy: 0.8907\n",
      "Epoch 12/20\n",
      "1688/1688 [==============================] - 1s 701us/step - loss: 0.2499 - accuracy: 0.9068 - val_loss: 0.3108 - val_accuracy: 0.8912\n",
      "Epoch 13/20\n",
      "1688/1688 [==============================] - 1s 696us/step - loss: 0.2436 - accuracy: 0.9085 - val_loss: 0.2928 - val_accuracy: 0.8955\n",
      "Epoch 14/20\n",
      "1688/1688 [==============================] - 1s 712us/step - loss: 0.2389 - accuracy: 0.9101 - val_loss: 0.2972 - val_accuracy: 0.8953\n",
      "Epoch 15/20\n",
      "1688/1688 [==============================] - 1s 707us/step - loss: 0.2329 - accuracy: 0.9130 - val_loss: 0.3120 - val_accuracy: 0.8915\n",
      "Epoch 16/20\n",
      "1688/1688 [==============================] - 1s 698us/step - loss: 0.2270 - accuracy: 0.9153 - val_loss: 0.3067 - val_accuracy: 0.8940\n",
      "Epoch 17/20\n",
      "1688/1688 [==============================] - 1s 663us/step - loss: 0.2217 - accuracy: 0.9169 - val_loss: 0.2996 - val_accuracy: 0.9000\n",
      "Epoch 18/20\n",
      "1688/1688 [==============================] - 1s 595us/step - loss: 0.2176 - accuracy: 0.9188 - val_loss: 0.3165 - val_accuracy: 0.8970\n",
      "Epoch 19/20\n",
      "1688/1688 [==============================] - 1s 592us/step - loss: 0.2131 - accuracy: 0.9197 - val_loss: 0.3033 - val_accuracy: 0.8988\n",
      "Epoch 20/20\n",
      "1688/1688 [==============================] - 1s 610us/step - loss: 0.2074 - accuracy: 0.9221 - val_loss: 0.3151 - val_accuracy: 0.8952\n"
     ]
    }
   ],
   "source": [
    "network.compile(loss=\"sparse_categorical_crossentropy\", optimizer=\"adam\", metrics=[\"accuracy\"])\n",
    "history = network.fit(train_data, train_target, epochs=20, batch_size=32, validation_data=(valid_data, valid_target))"
   ]
  },
  {
   "cell_type": "markdown",
   "metadata": {},
   "source": [
    "To see if we've trained long enough, we can check the learning curve."
   ]
  },
  {
   "cell_type": "code",
   "execution_count": 10,
   "metadata": {},
   "outputs": [
    {
     "data": {
      "image/png": "[encoded data removed]",
      "text/plain": [
       "<Figure size 432x288 with 1 Axes>"
      ]
     },
     "metadata": {
      "needs_background": "light"
     },
     "output_type": "display_data"
    }
   ],
   "source": [
    "plt.plot(history.history[\"accuracy\"], label=\"Training\")\n",
    "plt.plot(history.history[\"val_accuracy\"], label=\"Validation\")\n",
    "plt.title(\"Learning Curve\")\n",
    "plt.xlabel(\"Epoch\")\n",
    "plt.ylabel(\"Accuracy\")\n",
    "plt.legend()\n",
    "plt.show()"
   ]
  },
  {
   "cell_type": "markdown",
   "metadata": {},
   "source": [
    "Let's see how well this network does on the test set."
   ]
  },
  {
   "cell_type": "code",
   "execution_count": 11,
   "metadata": {},
   "outputs": [
    {
     "name": "stdout",
     "output_type": "stream",
     "text": [
      "313/313 [==============================] - 0s 515us/step - loss: 0.3622 - accuracy: 0.8818\n"
     ]
    }
   ],
   "source": [
    "loss, accuracy = network.evaluate(test_data, test_target)"
   ]
  },
  {
   "cell_type": "markdown",
   "metadata": {},
   "source": [
    "Now let's build a convolutional network, which should be able to do even better."
   ]
  },
  {
   "cell_type": "code",
   "execution_count": 12,
   "metadata": {},
   "outputs": [],
   "source": [
    "network = keras.models.Sequential([\n",
    "    keras.layers.Conv2D(64, 3, activation=\"relu\", padding=\"same\", input_shape=(28, 28, 1)),\n",
    "    keras.layers.MaxPooling2D(2),\n",
    "    keras.layers.Conv2D(64, 3, activation=\"relu\", padding=\"same\", input_shape=(28, 28, 1)),\n",
    "    keras.layers.MaxPooling2D(2),\n",
    "    keras.layers.Conv2D(64, 3, activation=\"relu\", padding=\"same\", input_shape=(28, 28, 1)),\n",
    "    keras.layers.MaxPooling2D(2),\n",
    "    keras.layers.Flatten(),\n",
    "    keras.layers.Dropout(0.5),\n",
    "    keras.layers.Dense(64, activation=\"relu\"),\n",
    "    keras.layers.Dense(64, activation=\"relu\"),\n",
    "    keras.layers.Dense(10, activation=\"softmax\")\n",
    "])"
   ]
  },
  {
   "cell_type": "markdown",
   "metadata": {},
   "source": [
    "We'll need to add an explicit color channel to the images, because convolutional layers expect 3D inputs."
   ]
  },
  {
   "cell_type": "code",
   "execution_count": 13,
   "metadata": {},
   "outputs": [],
   "source": [
    "train_data = train_data.reshape(54000, 28, 28, 1)\n",
    "valid_data = valid_data.reshape(6000, 28, 28, 1)\n",
    "test_data = test_data.reshape(10000, 28, 28, 1)"
   ]
  },
  {
   "cell_type": "markdown",
   "metadata": {},
   "source": [
    "It's possible to train this network right here, but you'd have to be patient."
   ]
  },
  {
   "cell_type": "code",
   "execution_count": 14,
   "metadata": {},
   "outputs": [
    {
     "name": "stdout",
     "output_type": "stream",
     "text": [
      "Epoch 1/20\n",
      "1688/1688 [==============================] - 43s 25ms/step - loss: 0.5794 - accuracy: 0.7843 - val_loss: 0.3541 - val_accuracy: 0.8707\n",
      "Epoch 2/20\n",
      "1688/1688 [==============================] - 44s 26ms/step - loss: 0.3752 - accuracy: 0.8614 - val_loss: 0.3092 - val_accuracy: 0.8873\n",
      "Epoch 3/20\n",
      "1688/1688 [==============================] - 44s 26ms/step - loss: 0.3243 - accuracy: 0.8787 - val_loss: 0.2855 - val_accuracy: 0.8970\n",
      "Epoch 4/20\n",
      "1688/1688 [==============================] - 44s 26ms/step - loss: 0.2950 - accuracy: 0.8906 - val_loss: 0.2469 - val_accuracy: 0.9092\n",
      "Epoch 5/20\n",
      "1688/1688 [==============================] - 44s 26ms/step - loss: 0.2765 - accuracy: 0.8968 - val_loss: 0.2317 - val_accuracy: 0.9145\n",
      "Epoch 6/20\n",
      "1688/1688 [==============================] - 43s 26ms/step - loss: 0.2590 - accuracy: 0.9030 - val_loss: 0.2226 - val_accuracy: 0.9192\n",
      "Epoch 7/20\n",
      "1688/1688 [==============================] - 44s 26ms/step - loss: 0.2450 - accuracy: 0.9084 - val_loss: 0.2155 - val_accuracy: 0.9213\n",
      "Epoch 8/20\n",
      "1688/1688 [==============================] - 45s 27ms/step - loss: 0.2332 - accuracy: 0.9131 - val_loss: 0.2076 - val_accuracy: 0.9255\n",
      "Epoch 9/20\n",
      "1688/1688 [==============================] - 45s 26ms/step - loss: 0.2227 - accuracy: 0.9164 - val_loss: 0.2190 - val_accuracy: 0.9198\n",
      "Epoch 10/20\n",
      "1688/1688 [==============================] - 44s 26ms/step - loss: 0.2149 - accuracy: 0.9189 - val_loss: 0.2003 - val_accuracy: 0.9260\n",
      "Epoch 11/20\n",
      "1688/1688 [==============================] - 44s 26ms/step - loss: 0.2072 - accuracy: 0.9220 - val_loss: 0.1943 - val_accuracy: 0.9325\n",
      "Epoch 12/20\n",
      "1688/1688 [==============================] - 45s 26ms/step - loss: 0.2032 - accuracy: 0.9242 - val_loss: 0.1988 - val_accuracy: 0.9310\n",
      "Epoch 13/20\n",
      "1688/1688 [==============================] - 45s 26ms/step - loss: 0.1985 - accuracy: 0.9250 - val_loss: 0.2057 - val_accuracy: 0.9277\n",
      "Epoch 14/20\n",
      "1688/1688 [==============================] - 43s 26ms/step - loss: 0.1926 - accuracy: 0.9277 - val_loss: 0.1940 - val_accuracy: 0.9285\n",
      "Epoch 15/20\n",
      "1688/1688 [==============================] - 43s 26ms/step - loss: 0.1872 - accuracy: 0.9296 - val_loss: 0.1917 - val_accuracy: 0.9305\n",
      "Epoch 16/20\n",
      "1688/1688 [==============================] - 43s 26ms/step - loss: 0.1827 - accuracy: 0.9317 - val_loss: 0.1856 - val_accuracy: 0.9302\n",
      "Epoch 17/20\n",
      "1688/1688 [==============================] - 43s 26ms/step - loss: 0.1803 - accuracy: 0.9328 - val_loss: 0.1993 - val_accuracy: 0.9303\n",
      "Epoch 18/20\n",
      "1688/1688 [==============================] - 43s 26ms/step - loss: 0.1730 - accuracy: 0.9338 - val_loss: 0.1890 - val_accuracy: 0.9312\n",
      "Epoch 19/20\n",
      "1688/1688 [==============================] - 43s 26ms/step - loss: 0.1708 - accuracy: 0.9358 - val_loss: 0.1917 - val_accuracy: 0.9335\n",
      "Epoch 20/20\n",
      "1688/1688 [==============================] - 43s 26ms/step - loss: 0.1697 - accuracy: 0.9372 - val_loss: 0.1900 - val_accuracy: 0.9347\n"
     ]
    }
   ],
   "source": [
    "network.compile(loss=\"sparse_categorical_crossentropy\", optimizer=\"adam\", metrics=[\"accuracy\"])\n",
    "history = network.fit(train_data, train_target, epochs=20, batch_size=32, validation_data=(valid_data, valid_target))"
   ]
  },
  {
   "cell_type": "markdown",
   "metadata": {},
   "source": [
    "If you do wait for the training to finish, you'll see a higher test accuracy than you got with the small network."
   ]
  },
  {
   "cell_type": "code",
   "execution_count": 15,
   "metadata": {
    "tags": []
   },
   "outputs": [
    {
     "name": "stdout",
     "output_type": "stream",
     "text": [
      "313/313 [==============================] - 2s 5ms/step - loss: 0.2213 - accuracy: 0.9234\n"
     ]
    }
   ],
   "source": [
    "loss, accuracy = network.evaluate(test_data, test_target)"
   ]
  }
 ],
 "metadata": {
  "kernelspec": {
   "display_name": "Python 3",
   "language": "python",
   "name": "python3"
  },
  "language_info": {
   "codemirror_mode": {
    "name": "ipython",
    "version": 3
   },
   "file_extension": ".py",
   "mimetype": "text/x-python",
   "name": "python",
   "nbconvert_exporter": "python",
   "pygments_lexer": "ipython3",
   "version": "3.7.10"
  }
 },
 "nbformat": 4,
 "nbformat_minor": 4
}
