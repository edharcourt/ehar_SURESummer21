{
 "cells": [
  {
   "cell_type": "markdown",
   "id": "0c834518-0097-4e4b-a34b-713044953561",
   "metadata": {},
   "source": [
    "# Day 1 Summer 21"
   ]
  },
  {
   "cell_type": "markdown",
   "id": "492df749-bce4-4d94-9c08-a40a182d7c93",
   "metadata": {},
   "source": [
    "## We are playing with Jupyter"
   ]
  },
  {
   "cell_type": "markdown",
   "id": "c0f60a03-3fa5-4331-9df7-314cffee30ad",
   "metadata": {},
   "source": [
    "### Python"
   ]
  },
  {
   "cell_type": "code",
   "execution_count": 1,
   "id": "c584e888-acd7-4408-9b2e-43ee2ea5ed8f",
   "metadata": {},
   "outputs": [
    {
     "name": "stdout",
     "output_type": "stream",
     "text": [
      "hello World\n"
     ]
    }
   ],
   "source": [
    "print(\"hello World\")"
   ]
  },
  {
   "cell_type": "markdown",
   "id": "0edbd73f-f902-4416-9005-2d6cbd51c059",
   "metadata": {},
   "source": [
    "This is a numbered list \n",
    "\n",
    "1. Grace\n",
    "2. Kai.\n",
    "3. Cam\n",
    "4. Jonah\n",
    "5. Kevin\n",
    "6. Olivia"
   ]
  },
  {
   "cell_type": "markdown",
   "id": "2d659437-d3c4-40e1-a959-87730d390c0e",
   "metadata": {},
   "source": [
    "This is a bulleted list\n",
    "* Python\n",
    "* Markdown\n",
    "* Jupyter\n",
    "* Git"
   ]
  },
  {
   "cell_type": "markdown",
   "id": "e5489512-6b32-4ef5-8816-1f9a761644f3",
   "metadata": {},
   "source": [
    "This is a link [Jupyter](https://jupyter.org)"
   ]
  },
  {
   "cell_type": "markdown",
   "id": "f63fe114-3523-47f1-bdc0-fa295ca73678",
   "metadata": {},
   "source": [
    "This is also cool $f(x) = x^2$"
   ]
  },
  {
   "cell_type": "markdown",
   "id": "fca7ca2b-6c1c-42e9-a6e4-10aa9d5401b7",
   "metadata": {},
   "source": [
    "[Markdown Cheatsheet](https://guides.github.com/pdfs/markdown-cheatsheet-online.pdf)"
   ]
  },
  {
   "cell_type": "markdown",
   "id": "18031eab-c80c-4c68-8217-4bd97c4a370f",
   "metadata": {},
   "source": [
    "This is **bold** "
   ]
  },
  {
   "cell_type": "markdown",
   "id": "1728cbe1-2959-462d-88f5-a8a630461a01",
   "metadata": {},
   "source": [
    "This is *italics*"
   ]
  },
  {
   "cell_type": "markdown",
   "id": "4376061f-eecb-4d45-a4c8-2e9bb9da7aed",
   "metadata": {},
   "source": [
    "This is **_bold italics_**"
   ]
  },
  {
   "cell_type": "code",
   "execution_count": 2,
   "id": "b85357ff-570f-40d6-a921-6dcde7d51001",
   "metadata": {},
   "outputs": [
    {
     "name": "stdout",
     "output_type": "stream",
     "text": [
      "hello world\n"
     ]
    }
   ],
   "source": [
    "s = \"hello world\"\n",
    "print(s)"
   ]
  },
  {
   "cell_type": "code",
   "execution_count": 3,
   "id": "53c83cba-acc3-4ed4-9ede-9c4369175ad8",
   "metadata": {},
   "outputs": [],
   "source": [
    "y = 3*4\n",
    "z = 3+4"
   ]
  },
  {
   "cell_type": "code",
   "execution_count": 8,
   "id": "b600822a-246a-4bf9-8124-002e71f821a1",
   "metadata": {},
   "outputs": [],
   "source": [
    "x = 4"
   ]
  },
  {
   "cell_type": "code",
   "execution_count": 9,
   "id": "d63b2b7d-179c-4e1a-8625-660a69fb0447",
   "metadata": {},
   "outputs": [
    {
     "name": "stdout",
     "output_type": "stream",
     "text": [
      "19\n"
     ]
    }
   ],
   "source": [
    "print(y+z)"
   ]
  },
  {
   "cell_type": "code",
   "execution_count": 10,
   "id": "5b1670f9-c800-4298-b285-5b82342a97e7",
   "metadata": {},
   "outputs": [
    {
     "name": "stdout",
     "output_type": "stream",
     "text": [
      "4\n"
     ]
    }
   ],
   "source": [
    "print(x)"
   ]
  },
  {
   "cell_type": "code",
   "execution_count": 11,
   "id": "5712b5cc-f1a4-4e41-87e5-eb71b6e3f5c6",
   "metadata": {},
   "outputs": [
    {
     "data": {
      "text/plain": [
       "'hello world'"
      ]
     },
     "execution_count": 11,
     "metadata": {},
     "output_type": "execute_result"
    }
   ],
   "source": [
    "s"
   ]
  },
  {
   "cell_type": "code",
   "execution_count": 12,
   "id": "35f2957b-674f-4858-981d-f489176b1287",
   "metadata": {},
   "outputs": [
    {
     "data": {
      "text/plain": [
       "'hello'"
      ]
     },
     "execution_count": 12,
     "metadata": {},
     "output_type": "execute_result"
    }
   ],
   "source": [
    "s[0:5]  # slice"
   ]
  },
  {
   "cell_type": "code",
   "execution_count": 13,
   "id": "590790f6-b644-435b-8aa5-03187d58a120",
   "metadata": {},
   "outputs": [
    {
     "data": {
      "text/plain": [
       "['hello', 'world']"
      ]
     },
     "execution_count": 13,
     "metadata": {},
     "output_type": "execute_result"
    }
   ],
   "source": [
    "s.split()"
   ]
  },
  {
   "cell_type": "code",
   "execution_count": 14,
   "id": "7391773b-6ccf-46b1-9a73-b2b25b099b0d",
   "metadata": {},
   "outputs": [
    {
     "ename": "TypeError",
     "evalue": "'str' object does not support item assignment",
     "output_type": "error",
     "traceback": [
      "\u001b[1;31m---------------------------------------------------------------------------\u001b[0m",
      "\u001b[1;31mTypeError\u001b[0m                                 Traceback (most recent call last)",
      "\u001b[1;32m<ipython-input-14-1fa1f2b0dc79>\u001b[0m in \u001b[0;36m<module>\u001b[1;34m\u001b[0m\n\u001b[0;32m      1\u001b[0m \u001b[1;31m# strings are immutable\u001b[0m\u001b[1;33m\u001b[0m\u001b[1;33m\u001b[0m\u001b[1;33m\u001b[0m\u001b[0m\n\u001b[1;32m----> 2\u001b[1;33m \u001b[0ms\u001b[0m\u001b[1;33m[\u001b[0m\u001b[1;36m0\u001b[0m\u001b[1;33m]\u001b[0m \u001b[1;33m=\u001b[0m \u001b[1;34m'H'\u001b[0m\u001b[1;33m\u001b[0m\u001b[1;33m\u001b[0m\u001b[0m\n\u001b[0m",
      "\u001b[1;31mTypeError\u001b[0m: 'str' object does not support item assignment"
     ]
    }
   ],
   "source": [
    "# strings are immutable\n",
    "s[0] = 'H'"
   ]
  },
  {
   "cell_type": "code",
   "execution_count": 15,
   "id": "8789d8fe-823e-4581-b472-d3f12ecf5b6b",
   "metadata": {},
   "outputs": [],
   "source": [
    "lst = s.split()"
   ]
  },
  {
   "cell_type": "code",
   "execution_count": 16,
   "id": "71a119f0-4778-4807-b81e-6212b898b7bb",
   "metadata": {},
   "outputs": [],
   "source": [
    "lst[0] = 'Hello'  # list are mutable"
   ]
  },
  {
   "cell_type": "code",
   "execution_count": 17,
   "id": "4b2068c2-b7c4-4299-b10c-3536c0b7e0f3",
   "metadata": {},
   "outputs": [
    {
     "name": "stdout",
     "output_type": "stream",
     "text": [
      "['Hello', 'world']\n"
     ]
    }
   ],
   "source": [
    "print(lst)"
   ]
  },
  {
   "cell_type": "code",
   "execution_count": 18,
   "id": "00b51c26-39f4-4fb3-8ef2-e189e165a793",
   "metadata": {},
   "outputs": [
    {
     "ename": "TypeError",
     "evalue": "'tuple' object does not support item assignment",
     "output_type": "error",
     "traceback": [
      "\u001b[1;31m---------------------------------------------------------------------------\u001b[0m",
      "\u001b[1;31mTypeError\u001b[0m                                 Traceback (most recent call last)",
      "\u001b[1;32m<ipython-input-18-9ad249e6656e>\u001b[0m in \u001b[0;36m<module>\u001b[1;34m\u001b[0m\n\u001b[0;32m      1\u001b[0m \u001b[0mt\u001b[0m \u001b[1;33m=\u001b[0m \u001b[1;33m(\u001b[0m\u001b[1;34m'hello'\u001b[0m\u001b[1;33m,\u001b[0m \u001b[1;34m'world'\u001b[0m\u001b[1;33m)\u001b[0m\u001b[1;33m\u001b[0m\u001b[1;33m\u001b[0m\u001b[0m\n\u001b[1;32m----> 2\u001b[1;33m \u001b[0mt\u001b[0m\u001b[1;33m[\u001b[0m\u001b[1;36m0\u001b[0m\u001b[1;33m]\u001b[0m \u001b[1;33m=\u001b[0m \u001b[1;34m'jello'\u001b[0m\u001b[1;33m\u001b[0m\u001b[1;33m\u001b[0m\u001b[0m\n\u001b[0m",
      "\u001b[1;31mTypeError\u001b[0m: 'tuple' object does not support item assignment"
     ]
    }
   ],
   "source": [
    "t = ('hello', 'world')\n",
    "t[0] = 'jello'"
   ]
  },
  {
   "cell_type": "code",
   "execution_count": 19,
   "id": "32cc13f3-be8b-40bf-ac4f-7cfa92c3cee9",
   "metadata": {},
   "outputs": [
    {
     "name": "stdout",
     "output_type": "stream",
     "text": [
      "hello\n",
      "world\n"
     ]
    }
   ],
   "source": [
    "for i in t:\n",
    "    print(i)"
   ]
  },
  {
   "cell_type": "code",
   "execution_count": 20,
   "id": "386e1b7b-9c9e-4021-aa57-536c3b46ba0c",
   "metadata": {},
   "outputs": [
    {
     "name": "stdout",
     "output_type": "stream",
     "text": [
      "Hello\n",
      "world\n"
     ]
    }
   ],
   "source": [
    "for i in lst:\n",
    "    print(i)"
   ]
  },
  {
   "cell_type": "code",
   "execution_count": 21,
   "id": "ada41a47-daca-447a-ab76-3acb4f8186db",
   "metadata": {},
   "outputs": [
    {
     "name": "stdout",
     "output_type": "stream",
     "text": [
      "h\n",
      "e\n",
      "l\n",
      "l\n",
      "o\n",
      " \n",
      "w\n",
      "o\n",
      "r\n",
      "l\n",
      "d\n"
     ]
    }
   ],
   "source": [
    "for ch in s:\n",
    "    print(ch)"
   ]
  },
  {
   "cell_type": "code",
   "execution_count": 22,
   "id": "d105672f-ce72-450c-afbe-ad36fdccd0f5",
   "metadata": {},
   "outputs": [
    {
     "data": {
      "text/plain": [
       "['hello', 'world']"
      ]
     },
     "execution_count": 22,
     "metadata": {},
     "output_type": "execute_result"
    }
   ],
   "source": [
    "str1 = 'Converse'\n",
    "str2 = 'conServe'\n",
    "lst = [\"world\", \"hello\"]\n",
    "sorted(lst)"
   ]
  },
  {
   "cell_type": "code",
   "execution_count": 28,
   "id": "74f7ef84-8d9b-4e63-abca-4622e3d843d0",
   "metadata": {},
   "outputs": [
    {
     "name": "stdout",
     "output_type": "stream",
     "text": [
      "ceenorsv ceenorsv\n"
     ]
    }
   ],
   "source": [
    "lstr1 = sorted(str1)\n",
    "lstr2 = sorted(str2)\n",
    "str1a = ''.join(lstr1)\n",
    "str2a = ''.join(lstr2)\n",
    "print(str1a, str2a)"
   ]
  },
  {
   "cell_type": "code",
   "execution_count": 29,
   "id": "8a864bdc-c942-4566-a02e-fe0d2a7e79a3",
   "metadata": {},
   "outputs": [],
   "source": [
    "def anagram(s1,s2):\n",
    "    return s1 != s2 and sorted(s1.lower()) == sorted(s2.lower())"
   ]
  },
  {
   "cell_type": "code",
   "execution_count": 32,
   "id": "2762fdea-c626-4c11-981b-b58e9da701cf",
   "metadata": {},
   "outputs": [
    {
     "data": {
      "text/plain": [
       "True"
      ]
     },
     "execution_count": 32,
     "metadata": {},
     "output_type": "execute_result"
    }
   ],
   "source": [
    "anagram(str1, str2)"
   ]
  },
  {
   "cell_type": "code",
   "execution_count": 31,
   "id": "2a427d76-2163-4276-9c0f-4b3d9833eaf5",
   "metadata": {},
   "outputs": [
    {
     "data": {
      "text/plain": [
       "False"
      ]
     },
     "execution_count": 31,
     "metadata": {},
     "output_type": "execute_result"
    }
   ],
   "source": [
    "anagram(str1, str1)"
   ]
  },
  {
   "cell_type": "code",
   "execution_count": 36,
   "id": "8a858d94-37c2-4d2e-97ae-3e05038aaceb",
   "metadata": {},
   "outputs": [
    {
     "data": {
      "text/plain": [
       "'dlrow olleh'"
      ]
     },
     "execution_count": 36,
     "metadata": {},
     "output_type": "execute_result"
    }
   ],
   "source": [
    "s[::-1]"
   ]
  },
  {
   "cell_type": "markdown",
   "id": "9c9ab848-7519-4821-a776-2465d71afcb8",
   "metadata": {},
   "source": [
    "### Find the longest word in a dictionary"
   ]
  },
  {
   "cell_type": "code",
   "execution_count": 37,
   "id": "ca826c21-7f17-4c16-a45a-6790d17f3de9",
   "metadata": {},
   "outputs": [],
   "source": [
    "import requests"
   ]
  },
  {
   "cell_type": "code",
   "execution_count": 41,
   "id": "c4b5727f-8f3a-49cd-8a2e-aa3e846bc05c",
   "metadata": {},
   "outputs": [
    {
     "name": "stdout",
     "output_type": "stream",
     "text": [
      "Llanfairpwllgwyngyllgogerychwyrndrobwllllantysiliogogogoch's\n"
     ]
    }
   ],
   "source": [
    "url_base = \"http://10.40.6.14/~ehar/sure/data/\"\n",
    "file = 'words-big.txt'\n",
    "url = url_base + file\n",
    "r = requests.get(url)\n",
    "\n",
    "c = 0  # counter\n",
    "longest = \"\"\n",
    "for line in r.text.split('\\n'):\n",
    "    c += 1\n",
    "    if len(line) > len(longest):\n",
    "        longest = line\n",
    "    \n",
    "print(longest)\n"
   ]
  },
  {
   "cell_type": "code",
   "execution_count": null,
   "id": "9724cb96-b5b3-4eba-b77e-f72c2ab7fd97",
   "metadata": {},
   "outputs": [],
   "source": [
    "# write a function that returns a sorted string of the unique characters in a string\n",
    "# uniquechars('antidisestablishmentarianism') == 'abdehilmnrst'"
   ]
  },
  {
   "cell_type": "code",
   "execution_count": 42,
   "id": "2ed7dc55-d397-43a6-8d39-b0725c51ed80",
   "metadata": {},
   "outputs": [
    {
     "data": {
      "text/plain": [
       "{1, 2, 3, 4}"
      ]
     },
     "execution_count": 42,
     "metadata": {},
     "output_type": "execute_result"
    }
   ],
   "source": [
    "s = set([1,2,2,3,3,3,3,3,4])\n",
    "s"
   ]
  },
  {
   "cell_type": "code",
   "execution_count": 47,
   "id": "5ba6481b-6802-4123-b7c1-c6fc1cbe3019",
   "metadata": {},
   "outputs": [
    {
     "data": {
      "text/plain": [
       "'abcdefghilnoprstwy'"
      ]
     },
     "execution_count": 47,
     "metadata": {},
     "output_type": "execute_result"
    }
   ],
   "source": [
    "def uniquechars(s: str) -> str:\n",
    "    return ''.join(sorted(set(s.lower())))\n",
    "\n",
    "uniquechars('Llanfairpwllgwyngyllgogerychwyrndrobwllllantysiliogogogoch')"
   ]
  },
  {
   "cell_type": "code",
   "execution_count": 48,
   "id": "adf5d246-f67a-4b15-be8e-e40c483a7847",
   "metadata": {},
   "outputs": [],
   "source": [
    "import numpy as np"
   ]
  },
  {
   "cell_type": "code",
   "execution_count": 49,
   "id": "f59ec7e3-8a60-4e3b-beab-d8f8bfeb4068",
   "metadata": {},
   "outputs": [],
   "source": [
    "import pandas as pd"
   ]
  },
  {
   "cell_type": "code",
   "execution_count": 50,
   "id": "b52e2c96-7a43-4cd8-be9f-d96e81844597",
   "metadata": {},
   "outputs": [],
   "source": [
    "import matplotlib"
   ]
  },
  {
   "cell_type": "code",
   "execution_count": null,
   "id": "9ad08183-ce87-449d-9b76-978a14b3fc1e",
   "metadata": {},
   "outputs": [],
   "source": []
  },
  {
   "cell_type": "code",
   "execution_count": null,
   "id": "92ad31be-1686-4c56-af5e-d1898e14a13f",
   "metadata": {},
   "outputs": [],
   "source": []
  }
 ],
 "metadata": {
  "kernelspec": {
   "display_name": "Python 3",
   "language": "python",
   "name": "python3"
  },
  "language_info": {
   "codemirror_mode": {
    "name": "ipython",
    "version": 3
   },
   "file_extension": ".py",
   "mimetype": "text/x-python",
   "name": "python",
   "nbconvert_exporter": "python",
   "pygments_lexer": "ipython3",
   "version": "3.8.8"
  }
 },
 "nbformat": 4,
 "nbformat_minor": 5
}
